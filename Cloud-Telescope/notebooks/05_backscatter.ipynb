{
 "cells": [
  {
   "cell_type": "code",
   "execution_count": null,
   "id": "initial_id",
   "metadata": {
    "collapsed": true
   },
   "outputs": [],
   "source": [
    "from pathlib import Path\n",
    "import os\n",
    "if not str(Path.cwd()).endswith('/Cloud-Telescope'):\n",
    "    os.chdir(Path.cwd().parent)\n",
    "    print(f'New working dir is {Path.cwd()}')    \n",
    "\n",
    "try:\n",
    "    import dns\n",
    "except ModuleNotFoundError:\n",
    "    import sys\n",
    "    !{sys.executable} -m pip install dnspython\n",
    "    import dns\n",
    "    \n",
    "    \n",
    "import importlib\n",
    "import pandas as pd\n",
    "\n",
    "import src.d01_data.read_files\n",
    "importlib.reload(src.d01_data.read_files)\n",
    "\n",
    "import src.d01_data.save_files\n",
    "importlib.reload(src.d01_data.save_files)\n",
    "\n",
    "import src.d01_data.log_names_enum\n",
    "importlib.reload(src.d01_data.log_names_enum)\n",
    "\n",
    "import src.d03_visiualisation.tabel_visiualisation\n",
    "importlib.reload(src.d03_visiualisation.tabel_visiualisation)\n",
    "\n",
    "import src.d03_visiualisation.bar_diagram\n",
    "importlib.reload(src.d03_visiualisation.bar_diagram)\n",
    "\n",
    "import src.d03_visiualisation.head_map\n",
    "importlib.reload(src.d03_visiualisation.head_map)\n",
    "\n",
    "import src.d03_visiualisation.graf_arrival_rate\n",
    "importlib.reload(src.d03_visiualisation.graf_arrival_rate)\n",
    "\n",
    "import src.d03_visiualisation.seaborn_bar_diagram\n",
    "importlib.reload(src.d03_visiualisation.seaborn_bar_diagram)\n",
    "\n",
    "import src.d04_analysation.count_percent\n",
    "importlib.reload(src.d04_analysation.count_percent)\n",
    "\n",
    "import src.d02_intermediate.filter_telescope_ips\n",
    "importlib.reload(src.d02_intermediate.filter_telescope_ips)\n",
    "\n",
    "import src.d04_analysation.backscatter\n",
    "importlib.reload(src.d04_analysation.backscatter)\n",
    "\n",
    "import src.d04_analysation.icmp_backscatter_analysis\n",
    "importlib.reload(src.d04_analysation.icmp_backscatter_analysis)\n",
    "\n",
    "import src.d04_analysation.reverse_dns_lookup\n",
    "importlib.reload(src.d04_analysation.reverse_dns_lookup)\n",
    "\n",
    "import src.config\n",
    "importlib.reload(src.config)"
   ]
  },
  {
   "cell_type": "markdown",
   "source": [
    "### load conn"
   ],
   "metadata": {
    "collapsed": false
   },
   "id": "98fd3022cab4c7d5"
  },
  {
   "cell_type": "code",
   "execution_count": null,
   "outputs": [],
   "source": [
    "from src.d01_data.read_files import load_latest_dataframe\n",
    "from src.d01_data.log_names_enum import LogNamesEnum\n",
    "\n",
    "conn: pd.DataFrame = load_latest_dataframe(LogNamesEnum.conn)\n",
    "if conn['creation_resp'].dtypes != 'float64':\n",
    "    conn['creation_resp'] = pd.to_datetime(conn['creation_resp']).astype('int64') / 10**9\n",
    "    conn['creation_resp'] = conn['creation_resp'].astype('float64')\n",
    "if conn['deletion_resp'].dtypes != 'float64':\n",
    "    conn['deletion_resp'] = pd.to_datetime(conn['deletion_resp'], errors='coerce')\n",
    "    conn['deletion_resp'] = conn['deletion_resp'].astype('int64') / 10**9\n",
    "    conn['deletion_resp'] = conn['deletion_resp'].astype('float64')\n",
    "if conn['deletion_orig'].dtypes != 'float64':\n",
    "    conn['deletion_orig'] = pd.to_datetime(conn['deletion_orig']).astype('int64') / 10**9\n",
    "    conn['deletion_orig'] = conn['deletion_orig'].astype('float64')\n",
    "if conn['creation_orig'].dtypes != 'float64':\n",
    "    conn['creation_orig'] = pd.to_datetime(conn['creation_orig']).astype('int64') / 10**9\n",
    "    conn['creation_orig'] = conn['creation_orig'].astype('float64')\n",
    "    \n",
    "conn_udp = conn[conn['proto'] == 'udp']"
   ],
   "metadata": {
    "collapsed": false
   },
   "id": "a41e26e089b4fd2e"
  },
  {
   "cell_type": "markdown",
   "source": [
    "### calculate backscatter traffic"
   ],
   "metadata": {
    "collapsed": false
   },
   "id": "1a01c05ac78f9dc5"
  },
  {
   "cell_type": "code",
   "execution_count": null,
   "outputs": [],
   "source": [
    "from src.d02_intermediate.filter_telescope_ips import *\n",
    "from src.d04_analysation.count_percent import *\n",
    "\n",
    "def calculate_backscatter_traffic():\n",
    "    backscatter_traffic: pd.DataFrame = filter_backscatter_traffic(LogNamesEnum.conn, conn_udp)\n",
    "    return backscatter_traffic\n",
    "\n",
    "backscatter_traffic: pd.DataFrame = calculate_backscatter_traffic()\n",
    "backscatter_calc: pd.DataFrame = column_calculation(backscatter_traffic, {'id.resp_h': -1}, False)[0].result_as_df\n",
    "backscatter_traffic = backscatter_traffic[backscatter_traffic['id.resp_h'].isin(backscatter_calc['id.resp_h'].tolist())]\n",
    "\n",
    "backscatter_traffic_unique_attack_resp_ip: pd.DataFrame = backscatter_traffic.drop_duplicates(subset=['id.resp_h'], keep='first')\n",
    "\n",
    "backscatter_traffic_unique_attack: pd.DataFrame = backscatter_traffic.drop_duplicates(subset=['resp_name_2025-01-27'], keep='first')\n",
    "\n",
    "#backscatter_traffic_unique_attack: pd.DataFrame = backscatter_traffic.drop_duplicates(subset=['resp_name_2025-01-27'], keep='first')"
   ],
   "metadata": {
    "collapsed": false
   },
   "id": "c98a24b7f4beb7c8"
  },
  {
   "cell_type": "markdown",
   "source": [
    "### print backscatter resp IP for CAIDA script"
   ],
   "metadata": {
    "collapsed": false
   },
   "id": "cbd42b6deb60a454"
  },
  {
   "cell_type": "code",
   "execution_count": null,
   "outputs": [],
   "source": [
    "def print_backscatter_resp_ip():\n",
    "    resp_ips: list[str] = backscatter_traffic_unique_attack['id.resp_h'].to_list()\n",
    "    print(len(resp_ips))\n",
    "    \n",
    "    print_output: str = '' \n",
    "    for index, ip in enumerate(resp_ips):\n",
    "        if index == 0:\n",
    "            print_output = f'src host {ip}'    \n",
    "        else:\n",
    "            print_output = f'{print_output} or src host {ip}'\n",
    "    \n",
    "    print_output = f'{print_output} and udp'\n",
    "    print(print_output)\n",
    "\n",
    "def print_backscatter_ip():\n",
    "    resp_ips: list[str] = backscatter_traffic_unique_attack['id.resp_h'].to_list()\n",
    "    print(len(resp_ips))\n",
    "    \n",
    "    print_output: str = '' \n",
    "    for index, ip in enumerate(resp_ips):\n",
    "        if index == 0:\n",
    "            print_output = f'host {ip}'    \n",
    "        else:\n",
    "            print_output = f'{print_output} or {ip}'\n",
    "    \n",
    "    print(print_output)\n",
    "print_backscatter_resp_ip()\n",
    "#print_backscatter_ip()"
   ],
   "metadata": {
    "collapsed": false
   },
   "id": "83685198a5000fb4"
  },
  {
   "cell_type": "markdown",
   "source": [
    "### show attacked ports "
   ],
   "metadata": {
    "collapsed": false
   },
   "id": "ab126c8ee8707b7a"
  },
  {
   "cell_type": "code",
   "execution_count": null,
   "outputs": [],
   "source": [
    "from src.d03_visiualisation.bar_diagram import *\n",
    "from src.d04_analysation.count_percent import *\n",
    "from src.d03_visiualisation.seaborn_bar_diagram import *\n",
    "\n",
    "udp_services = {\n",
    "    53: \"DNS\",\n",
    "    5060: \"SIP\",\n",
    "    123: \"NTP\",\n",
    "    5683: \"CoAP\",\n",
    "    3702: \"WS-Discovery\",\n",
    "    161: \"SNMP\",\n",
    "    37020: \"WS-Discovery (Secure)\",\n",
    "    389: \"LDAP\",\n",
    "    1900: \"SSDP\",\n",
    "    33434: \"Traceroute\",\n",
    "    1194: \"OpenVPN\",\n",
    "    3283: \"Apple Remote Desktop\",\n",
    "    3478: \"STUN\",\n",
    "    9034: \"Tor ORPort\",\n",
    "    500: \"ISAKMP (IPsec)\",\n",
    "    137: \"NetBIOS\",\n",
    "    27015: \"Source Engine\",\n",
    "    111: \"ONC RPC\",\n",
    "    27960: \"Quake 3\",\n",
    "    19: \"Chargen\",\n",
    "    5353: \"mDNS\",\n",
    "    5355: \"LLMNR\",\n",
    "    4789: \"VXLAN\",\n",
    "    3544: \"Teredo\",\n",
    "    514: \"Syslog\",\n",
    "    20000: \"DNP3\",\n",
    "    5072: \"ayiya\",\n",
    "    443: \"QUIC\",\n",
    "    6081: \"Geneve\"\n",
    "}\n",
    "\n",
    "def show_attacked_ports():\n",
    "    \n",
    "    attack_ports_calculation: pd.DataFrame = column_calculation(backscatter_traffic_unique_attack_resp_ip, {'id.resp_p': -1}, False)[0].result_as_df\n",
    "    \n",
    "    \n",
    "    for index, port in enumerate(attack_ports_calculation['id.resp_p'].tolist()):\n",
    "        service = udp_services.get(int(port))\n",
    "        attack_ports_calculation.loc[index, 'service'] = service\n",
    "    \n",
    "    attack_ports_calculation = attack_ports_calculation.drop(index=attack_ports_calculation.index[0])\n",
    "    \n",
    "    \n",
    "    seaborn_custom_bar_diagram(df=attack_ports_calculation, x_column='service', y_column='total', x_lable='Protokoll', y_lable='Anzahl Angriffe', rotation=40, saving_name='ddos_ports2', diagram_width=5, diagram_height=4)\n",
    "    \n",
    "    return attack_ports_calculation\n",
    "    \n",
    "show_attacked_ports()\n"
   ],
   "metadata": {
    "collapsed": false
   },
   "id": "843640c2e0390d48"
  },
  {
   "cell_type": "markdown",
   "source": [
    "### show attacked countries"
   ],
   "metadata": {
    "collapsed": false
   },
   "id": "e8d6014d6693556d"
  },
  {
   "cell_type": "code",
   "execution_count": null,
   "outputs": [],
   "source": [
    "from src.d03_visiualisation.bar_diagram import *\n",
    "from src.d04_analysation.count_percent import *\n",
    "\n",
    "def show_attacked_countries():\n",
    "    \n",
    "    attack_countries_calculation: pd.DataFrame = column_calculation(backscatter_traffic_unique_attack_resp_ip, {'resp_country_location': -1}, False)[0].result_as_df\n",
    "    attack_countries_calculation = attack_countries_calculation.drop(index=attack_countries_calculation.index[0])\n",
    "    attack_countries_calculation = attack_countries_calculation.head(20)\n",
    "    \n",
    "    \n",
    "    seaborn_custom_bar_diagram(df=attack_countries_calculation, x_column='resp_country_location', y_column='total', x_lable='Ziel-Land des Angriffs', y_lable='Anzahl Angriffe', rotation=40, saving_name='ddos_country', diagram_width=10, diagram_height=5)\n",
    "    \n",
    "    return attack_countries_calculation\n",
    "    \n",
    "re = show_attacked_countries()\n",
    "re\n",
    "#print(re['total'].sum())"
   ],
   "metadata": {
    "collapsed": false
   },
   "id": "95dc5a5db01f1110"
  },
  {
   "cell_type": "markdown",
   "source": [
    "### show destination (country / asn) mapped source (country / asn)"
   ],
   "metadata": {
    "collapsed": false
   },
   "id": "b6ddce2441122632"
  },
  {
   "cell_type": "code",
   "execution_count": null,
   "outputs": [],
   "source": [
    "from src.d03_visiualisation.head_map import *\n",
    "from src.d04_analysation.backscatter import *\n",
    "\n",
    "def show_attacked_mapped_countries():\n",
    "\n",
    "    top_attacked_countires = column_calculation(backscatter_traffic_unique_attack_resp_ip, {'resp_country_location': -1}, False)[0].result_as_df.head(21)\n",
    "    backscatter_traffic_unique_attack_top = backscatter_traffic_unique_attack_resp_ip[backscatter_traffic_unique_attack_resp_ip['resp_country_location'].isin(top_attacked_countires['resp_country_location'])]\n",
    "    # countries\n",
    "    df_mapped_countries: pd.DataFrame = calculate_mapped_asn_attacked_ocean(backscatter_unique=backscatter_traffic_unique_attack_top, compare_column_x='orig_country_location', compare_column_y='resp_country_location', threshold_percent=1.0, sort=False)\n",
    "    \n",
    "    show_head_int_map_for_df(df=df_mapped_countries, y_index='resp_country_location', x_columns='orig_country_location', value_column='total', x_lable='orig', y_lable='resp')\n",
    "    \n",
    "    df_mapped_countries2: pd.DataFrame = calculate_mapped_asn_attacked_ocean(backscatter_unique=backscatter_traffic_unique_attack_top, compare_column_x='resp_country_location', compare_column_y='orig_country_location', threshold_percent=1.0, sort=False)\n",
    "    return df_mapped_countries2\n",
    "    \n",
    "    show_head_int_map_for_df(df=df_mapped_countries2, y_index='orig_country_location', x_columns='resp_country_location', value_column='total', x_lable='Zielland des Angriffes', y_lable='Serverstandort (src-IP)', save_name='____ddos_comparison')\n",
    "    \n",
    "    # asn\n",
    "    # df_mapped_asn: pd.DataFrame =calculate_mapped_asn_attacked_ocean(backscatter_unique=backscatter_traffic_unique_attack, compare_column_x='orig_id_rir', compare_column_y='resp_id_rir', threshold_percent=0.8, sort=True)\n",
    "    # \n",
    "    # show_head_map_for_df(df=df_mapped_asn, y_index='resp_id_rir', x_columns='orig_id_rir', value_column='total', x_lable='orig', y_lable='resp').show()\n",
    "    #rir = backscatter_traffic_unique_attack\n",
    "    #rir['resp_admin_rir'] = backscatter_traffic_unique_attack['resp_admin_rir'].apply(lambda x: x.split('-')[-1])\n",
    "    #rir['orig_admin_rir'] = backscatter_traffic_unique_attack['orig_admin_rir'].apply(lambda x: x.split('-')[-1])\n",
    "    #df_mapped_network: pd.DataFrame = calculate_mapped_asn_attacked_ocean(backscatter_unique=rir, compare_column_x='resp_admin_rir', compare_column_y='orig_admin_rir', threshold_percent=1.4, sort=False)\n",
    "    \n",
    "    #show_head_int_map_for_df(df=df_mapped_network, y_index='orig_admin_rir', x_columns='resp_admin_rir', value_column='total', x_lable='orig', y_lable='resp', save_name='ddos_comparison')\n",
    "    \n",
    "res = show_attacked_mapped_countries()"
   ],
   "metadata": {
    "collapsed": false
   },
   "id": "ab909060e6bb6931"
  },
  {
   "cell_type": "markdown",
   "source": [
    "### show attacked Server Type "
   ],
   "metadata": {
    "collapsed": false
   },
   "id": "960c5ca90ece9583"
  },
  {
   "cell_type": "code",
   "execution_count": null,
   "outputs": [],
   "source": [
    "from src.d03_visiualisation.bar_diagram import *\n",
    "from src.d04_analysation.count_percent import *\n",
    "\n",
    "def show_attacked_server_type():\n",
    "\n",
    "    attack_server_type: pd.DataFrame = column_calculation(backscatter_traffic, {'resp_as_type_rir': -1}, False)[0].result_as_df\n",
    "    attack_server_type = attack_server_type.drop(index=attack_server_type.index[0])\n",
    "    #attack_countries_calculation = attack_server_type.head(20)\n",
    "    basic_bar_diagram(df=attack_server_type, x_column='resp_as_type_rir', y_column='total', x_lable='Type', y_lable='Anzahl DOS/DDOS Angriffe').show() \n",
    "    \n",
    "    return attack_server_type\n",
    "    \n",
    "show_attacked_server_type()    "
   ],
   "metadata": {
    "collapsed": false
   },
   "id": "7c8c14fc99714807"
  },
  {
   "cell_type": "markdown",
   "source": [
    "### Calculate dns and rir name"
   ],
   "metadata": {
    "collapsed": false
   },
   "id": "93a4ad8b4781da65"
  },
  {
   "cell_type": "code",
   "execution_count": null,
   "outputs": [],
   "source": [
    "from src.d04_analysation.backscatter import *\n",
    "from src.d04_analysation.reverse_dns_lookup import *\n",
    "def calc_dns_and_rir_name() -> DnsRirResponse:\n",
    "    dns_rir_response_calc: DnsRirResponse = calc_rir_and_dns_information(backscatter_traffic=backscatter_traffic, backscatter_traffic_unique_attack_resp_ip=backscatter_traffic_unique_attack_resp_ip)\n",
    "    \n",
    "    return dns_rir_response_calc\n",
    "\n",
    "dns_rir_response: DnsRirResponse = calc_dns_and_rir_name()\n",
    "dns_rir_response.attack_server_name\n"
   ],
   "metadata": {
    "collapsed": false
   },
   "id": "254f8c41e915326b"
  },
  {
   "cell_type": "markdown",
   "source": [
    "### show attacked dns and rir name"
   ],
   "metadata": {
    "collapsed": false
   },
   "id": "406714af8567a72b"
  },
  {
   "cell_type": "code",
   "execution_count": null,
   "outputs": [],
   "source": [
    "from src.d03_visiualisation.bar_diagram import *\n",
    "from src.d04_analysation.count_percent import *\n",
    "\n",
    "\n",
    "def show_attacked_server_type(attack_server_name: pd.DataFrame):\n",
    "    attack_server_name = attack_server_name.drop(index=attack_server_name.index[0])\n",
    "    \n",
    "    attack_server_name = attack_server_name.head(20)\n",
    "    seaborn_bar_diagram(df=attack_server_name, x_column='result', y_column='total', x_lable='rir-Name / DNS-Reverse Eintrag', y_lable='Anzahl backscatter-Anfragen', rotation=30, saving_name='ddos_rirname').show()\n",
    "    \n",
    "    return attack_server_name\n",
    "    \n",
    "ddos_attack_server_name = show_attacked_server_type(dns_rir_response.attack_server_name)    \n",
    "ddos_attack_server_name"
   ],
   "metadata": {
    "collapsed": false
   },
   "id": "7309effe4b0793b9"
  },
  {
   "cell_type": "markdown",
   "source": [
    "### calc darknet backscatter"
   ],
   "metadata": {
    "collapsed": false
   },
   "id": "1df96f3b12c1f6ca"
  },
  {
   "cell_type": "code",
   "execution_count": null,
   "outputs": [],
   "source": [
    "caida_backscatter = load_latest_dataframe(LogNamesEnum.mbackscatterconn)\n",
    "print(len(caida_backscatter))"
   ],
   "metadata": {
    "collapsed": false
   },
   "id": "69d6b0bc652e1ec"
  },
  {
   "cell_type": "code",
   "execution_count": null,
   "outputs": [],
   "source": [
    "caida_backscatter_unique = caida_backscatter.drop_duplicates(subset='id.orig_p', keep='first')\n"
   ],
   "metadata": {
    "collapsed": false
   },
   "id": "d067723ddfa6e49c"
  },
  {
   "cell_type": "code",
   "execution_count": null,
   "outputs": [],
   "source": [
    "caida_backscatter_count = caida_backscatter['id.orig_p'].value_counts()"
   ],
   "metadata": {
    "collapsed": false
   },
   "id": "3ec8bbb1f25db05a"
  },
  {
   "cell_type": "code",
   "execution_count": null,
   "outputs": [],
   "source": [
    "caida_backscatter_count_df = caida_backscatter_count.reset_index()\n",
    "caida_backscatter_count_df.columns = ['id.orig_p', 'count']"
   ],
   "metadata": {
    "collapsed": false
   },
   "id": "9408f177cb7ed65e"
  },
  {
   "cell_type": "code",
   "execution_count": null,
   "outputs": [],
   "source": [
    "backscatter_dns: pd.DataFrame = dns_rir_response.backscatter_dns\n",
    "\n",
    "darknet_backscatter: pd.DataFrame = backscatter_dns\n",
    "\n",
    "darknet_backscatter_unique: pd.DataFrame = darknet_backscatter.drop_duplicates(subset='id.resp_h', keep='first')"
   ],
   "metadata": {
    "collapsed": false
   },
   "id": "a2135f034e1116df"
  },
  {
   "cell_type": "markdown",
   "source": [
    "### show darknet comparison"
   ],
   "metadata": {
    "collapsed": false
   },
   "id": "c6fcccb14a5637e1"
  },
  {
   "cell_type": "code",
   "execution_count": null,
   "outputs": [],
   "source": [
    "from src.d03_visiualisation.bar_diagram import *\n",
    "def show_darknet_comparison():\n",
    "\n",
    "    down_time_start = pd.Timestamp(\"2025-01-25 11:00:00\").timestamp()\n",
    "    down_time_end = pd.Timestamp(\"2025-01-27 19:00:00\").timestamp()\n",
    "    \n",
    "    backscatter_traffic_unique_attack_resp_ip_time = backscatter_traffic_unique_attack_resp_ip[(backscatter_traffic_unique_attack_resp_ip['ts'] < down_time_start) | (backscatter_traffic_unique_attack_resp_ip['ts'] > down_time_end)]\n",
    "    \n",
    "    backscatter_traffic_time = backscatter_traffic[(backscatter_traffic['ts'] < down_time_start) | (backscatter_traffic['ts'] > down_time_end)]\n",
    "\n",
    "    \n",
    "    darknet_comparison: pd.DataFrame = pd.DataFrame({\n",
    "        'labels': [\"Cloud-Teleskop\", 'CAIDA-Teleskop'],\n",
    "        'Angriffe': [len(backscatter_traffic_unique_attack_resp_ip_time), len(darknet_backscatter_resp_ips)],\n",
    "        'Verbindungen': [len(backscatter_traffic_time), len(darknet_backscatter)]\n",
    "    })\n",
    "    \n",
    "    plot_overlapping_two_bars(darknet_comparison['Angriffe'].tolist(), darknet_comparison['Verbindungen'].tolist(), darknet_comparison['labels'].tolist(), saving_name='ddos_caida_comparison', legend=True, label_1='Angriffe', label_2='Verbindungen', width=4, height=5, gap=0.12, bar_width=0.1).show()\n",
    "    return darknet_comparison\n",
    "    \n",
    "show_darknet_comparison()"
   ],
   "metadata": {
    "collapsed": false
   },
   "id": "85071033d0b7b41c"
  },
  {
   "cell_type": "markdown",
   "source": [
    "### show darknet backscatter"
   ],
   "metadata": {
    "collapsed": false
   },
   "id": "33ca3372baa7bc1"
  },
  {
   "cell_type": "code",
   "execution_count": null,
   "outputs": [],
   "source": [
    "from src.d04_analysation.backscatter import *\n",
    "from src.d04_analysation.reverse_dns_lookup import *\n",
    "darknet_backscatter_calculation: pd.DataFrame = column_calculation(darknet_backscatter, {'result': -1}, False)[\n",
    "        0].result_as_df\n",
    "\n",
    "caida_backscatter_count_df_top20 = caida_backscatter_count_df.head(20)\n",
    "\n",
    "merge_rir_info_df = dns_rir_response.backscatter_dns[['id.resp_h', 'result']]\n",
    "caida_backscatter_count_df_top20_rir = caida_backscatter_count_df_top20.merge(merge_rir_info_df, how='left', left_on='id.orig_p', right_on='id.resp_h')\n",
    "\n",
    "seaborn_bar_diagram(df=caida_backscatter_count_df_top20_rir, x_column='result', y_column='count', x_lable='rir-Name / DNS-Reverse Eintrag', y_lable='Anzahl backscatter-Anfragen', rotation=30, saving_name='caida_ddos_rirname').show()"
   ],
   "metadata": {
    "collapsed": false
   },
   "id": "d4829c0011a47951"
  },
  {
   "cell_type": "code",
   "execution_count": null,
   "outputs": [],
   "source": [
    "caida_backscatter_count_df_top20_rir.drop_duplicates(subset='result', keep='first')"
   ],
   "metadata": {
    "collapsed": false
   },
   "id": "987aae2192e95db7"
  },
  {
   "cell_type": "markdown",
   "source": [
    "### calculate icmp backscatter traffic (if attacked Server is out of memory)"
   ],
   "metadata": {
    "collapsed": false
   },
   "id": "93415f2778d9d94d"
  },
  {
   "cell_type": "code",
   "execution_count": null,
   "outputs": [],
   "source": [
    "from src.d04_analysation.icmp_backscatter_analysis import *\n",
    "\n",
    "def icmp_analysis():\n",
    "    icmp_backscatter: pd.DataFrame = map_icmp_backscatter(conn=conn, backscatter_traffic_unique=backscatter_traffic_unique_attack, backscatter_traffic_complete=backscatter_traffic)\n",
    "    \n",
    "    return icmp_backscatter\n",
    "\n",
    "icmp_backscatter_mapped = icmp_analysis()\n",
    "icmp_backscatter_mapped"
   ],
   "metadata": {
    "collapsed": false
   },
   "id": "efd6978b7225f979"
  }
 ],
 "metadata": {
  "kernelspec": {
   "display_name": "Python 3",
   "language": "python",
   "name": "python3"
  },
  "language_info": {
   "codemirror_mode": {
    "name": "ipython",
    "version": 2
   },
   "file_extension": ".py",
   "mimetype": "text/x-python",
   "name": "python",
   "nbconvert_exporter": "python",
   "pygments_lexer": "ipython2",
   "version": "2.7.6"
  }
 },
 "nbformat": 4,
 "nbformat_minor": 5
}
