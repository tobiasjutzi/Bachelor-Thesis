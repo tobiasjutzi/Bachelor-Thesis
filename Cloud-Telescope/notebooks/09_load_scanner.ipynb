{
 "cells": [
  {
   "cell_type": "code",
   "execution_count": null,
   "id": "initial_id",
   "metadata": {
    "collapsed": true
   },
   "outputs": [],
   "source": [
    "from pathlib import Path\n",
    "import os\n",
    "if not str(Path.cwd()).endswith('/Cloud-Telescope'):\n",
    "    os.chdir(Path.cwd().parent)\n",
    "    print(f'New working dir is {Path.cwd()}')    \n",
    "import importlib\n",
    "import pandas as pd\n",
    "\n",
    "import src.d01_data.read_files  \n",
    "importlib.reload(src.d01_data.read_files)\n",
    "import src.d01_data.save_files\n",
    "importlib.reload(src.d01_data.save_files)\n",
    "import src.d01_data.log_names_enum\n",
    "importlib.reload(src.d01_data.log_names_enum)\n",
    "\n",
    "import src.d04_analysation.count_percent\n",
    "importlib.reload(src.d04_analysation.count_percent)\n",
    "\n",
    "import src.d02_intermediate.filter_telescope_ips\n",
    "importlib.reload(src.d02_intermediate.filter_telescope_ips)\n",
    "\n",
    "import src.d04_analysation.scanning\n",
    "importlib.reload(src.d04_analysation.scanning)\n",
    "\n",
    "import src.d04_analysation.arrival_rate\n",
    "importlib.reload(src.d04_analysation.arrival_rate)\n",
    "\n",
    "import src.d04_analysation.scnas_mapped_to_country\n",
    "importlib.reload(src.d04_analysation.scnas_mapped_to_country)\n",
    "\n",
    "import src.d04_analysation.scans_proto_country\n",
    "importlib.reload(src.d04_analysation.scans_proto_country)\n",
    "\n",
    "import src.d04_analysation.find_scanner\n",
    "importlib.reload(src.d04_analysation.find_scanner)\n",
    "\n",
    "import src.d03_visiualisation.tabel_visiualisation\n",
    "importlib.reload(src.d03_visiualisation.tabel_visiualisation)\n",
    "\n",
    "import src.d03_visiualisation.bar_diagram\n",
    "importlib.reload(src.d03_visiualisation.bar_diagram)\n",
    "\n",
    "import src.d03_visiualisation.head_map\n",
    "importlib.reload(src.d03_visiualisation.head_map)\n",
    "\n",
    "import src.d03_visiualisation.graf_arrival_rate\n",
    "importlib.reload(src.d03_visiualisation.graf_arrival_rate)"
   ]
  },
  {
   "cell_type": "markdown",
   "source": [
    "### find Port and Address Scanner "
   ],
   "metadata": {
    "collapsed": false
   },
   "id": "defbdb7df90bdf10"
  },
  {
   "cell_type": "code",
   "execution_count": null,
   "outputs": [],
   "source": [
    "import pandas as pd\n",
    "from src.d01_data.read_files import get_log_columns\n",
    "from src.d01_data.log_names_enum import *\n",
    "from src.d01_data.read_files import *\n",
    "from src.config import *\n",
    "\n",
    "scan_file: str = f'/home/tobias/work/Cloud-Telescope/data/raw/cloud_merged_pcap/zeek_scanner_folders/zeek_scan_addr-4.0_20min_p-4.0_20min/notice.log'\n",
    "\n",
    "\n",
    "scan_columns: list[str] = get_log_columns(f'{scan_file}')\n",
    "scan: pd.DataFrame = pd.read_csv(\n",
    "    f'{scan_file}',\n",
    "    delimiter='\\t',\n",
    "    comment='#',\n",
    "    names=scan_columns,\n",
    "    low_memory=False\n",
    ")\n",
    "zeek_port_scan = scan[scan['note'] == 'ScanUDP::Port_Scan']\n",
    "zeek_port_scan = zeek_port_scan.drop_duplicates(subset='src', keep='first')\n",
    "zeek_port_scan = zeek_port_scan.sort_values(by='ts', ascending=True)\n",
    "zeek_port_scan = zeek_port_scan.reset_index(drop=True)\n",
    "\n",
    "zeek_address_scan = scan[scan['note'] == 'ScanUDP::Port_Scan']\n",
    "zeek_address_scan = zeek_address_scan.drop_duplicates(subset='src', keep='frist')\n",
    "zeek_address_scan = zeek_address_scan.sort_values(by='ts', ascending=True)\n",
    "zeek_address_scan = zeek_address_scan.reset_index(drop=True)\n",
    "\n",
    "conn: pd.DataFrame = load_latest_dataframe(LogNamesEnum.conn)\n",
    "conn_udp: pd.DataFrame = conn[conn['proto'] == 'udp']\n",
    "conn_udp_icmp: pd.DataFrame = conn[conn['proto'].isin(['udp', 'icmp'])]"
   ],
   "metadata": {
    "collapsed": false
   },
   "id": "24079c71f570c1c1"
  },
  {
   "cell_type": "code",
   "execution_count": null,
   "outputs": [],
   "source": [
    "from src.d04_analysation.find_scanner import *\n",
    "from src.d01_data.log_names_enum import *\n",
    "from src.d01_data.save_files import *\n",
    "from collections import defaultdict\n",
    "from typing import Tuple\n",
    "\n",
    "address_scanner_dict: defaultdict[Tuple[str, int], pd.DataFrame] = defaultdict(pd.DataFrame)\n",
    "port_scanner_dict: defaultdict[Tuple[str, int], pd.DataFrame] = defaultdict(pd.DataFrame)\n",
    "\n",
    "scanner: pd.DataFrame = pd.DataFrame({\n",
    "        'threshold': pd.Series(dtype='int'),\n",
    "        'interval': pd.Series(dtype='int'),\n",
    "        'address_scanner': pd.Series(dtype='object'),\n",
    "        'port_scanner': pd.Series(dtype='object'),\n",
    "    })\n",
    "for threshold in range(2, 50, 2):\n",
    "    for interval in range(60 - 1860, 60):\n",
    "        print(f'working on threshold: {threshold} and interval: {interval}')\n",
    "        find_scanner_return: FindScannerReturn = find_scanning(unique_port_scanner=zeek_port_scan, unique_address_scanner=zeek_address_scan, conn_udp=conn_udp, address_threshold=threshold, port_threshold=threshold, address_interval=interval, port_interval=interval)\n",
    "        new_row: pd.DataFrame = pd.DataFrame({\n",
    "            'threshold': [threshold],\n",
    "            'address_scanner': [find_scanner_return.address_scanner],\n",
    "            'port_scanner': [find_scanner_return.port_scanner],\n",
    "        })\n",
    "        scanner = pd.concat([scanner, new_row], ignore_index=True)\n",
    "        if threshold % 5 == 0:\n",
    "            print(f'saving threshold: {threshold} and interval: {interval}')\n",
    "            save_dataframe_as_feather(scanner, LogNamesEnum.scanner, f't{threshold}i{interval}')\n",
    "save_dataframe_as_feather(scanner, LogNamesEnum.scanner, f'final')"
   ],
   "metadata": {
    "collapsed": false
   },
   "id": "3c52bcf3eaa18daf"
  }
 ],
 "metadata": {
  "kernelspec": {
   "display_name": "Python 3",
   "language": "python",
   "name": "python3"
  },
  "language_info": {
   "codemirror_mode": {
    "name": "ipython",
    "version": 2
   },
   "file_extension": ".py",
   "mimetype": "text/x-python",
   "name": "python",
   "nbconvert_exporter": "python",
   "pygments_lexer": "ipython2",
   "version": "2.7.6"
  }
 },
 "nbformat": 4,
 "nbformat_minor": 5
}
