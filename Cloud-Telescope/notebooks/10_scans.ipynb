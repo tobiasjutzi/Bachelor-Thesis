{
 "cells": [
  {
   "cell_type": "code",
   "execution_count": null,
   "id": "initial_id",
   "metadata": {
    "collapsed": true
   },
   "outputs": [],
   "source": [
    "from pathlib import Path\n",
    "import os\n",
    "if not str(Path.cwd()).endswith('/Cloud-Telescope'):\n",
    "    os.chdir(Path.cwd().parent)\n",
    "    print(f'New working dir is {Path.cwd()}')    \n",
    "import pandas as pd\n",
    "import importlib\n",
    "\n",
    "import src.config\n",
    "importlib.reload(src.config)\n",
    "\n",
    "import src.d01_data.read_files  \n",
    "importlib.reload(src.d01_data.read_files)\n",
    "import src.d01_data.save_files\n",
    "importlib.reload(src.d01_data.save_files)\n",
    "import src.d01_data.log_names_enum\n",
    "importlib.reload(src.d01_data.log_names_enum)\n",
    "\n",
    "import src.d04_analysation.count_percent\n",
    "importlib.reload(src.d04_analysation.count_percent)\n",
    "\n",
    "import src.d02_intermediate.filter_telescope_ips\n",
    "importlib.reload(src.d02_intermediate.filter_telescope_ips)\n",
    "\n",
    "import src.d04_analysation.scanning\n",
    "importlib.reload(src.d04_analysation.scanning)\n",
    "\n",
    "import src.d04_analysation.arrival_rate\n",
    "importlib.reload(src.d04_analysation.arrival_rate)\n",
    "\n",
    "import src.d04_analysation.scnas_mapped_to_country\n",
    "importlib.reload(src.d04_analysation.scnas_mapped_to_country)\n",
    "\n",
    "import src.d04_analysation.scans_proto_country\n",
    "importlib.reload(src.d04_analysation.scans_proto_country)\n",
    "\n",
    "import src.d04_analysation.find_scanner\n",
    "importlib.reload(src.d04_analysation.find_scanner)\n",
    "\n",
    "import src.d04_analysation.scan_aggrssivity_mapped_countries\n",
    "importlib.reload(src.d04_analysation.scan_aggrssivity_mapped_countries)\n",
    "\n",
    "import src.d04_analysation.reverse_dns_lookup\n",
    "importlib.reload(src.d04_analysation.reverse_dns_lookup)\n",
    "\n",
    "import src.d04_analysation.scan_education\n",
    "importlib.reload(src.d04_analysation.scan_education)\n",
    "\n",
    "import src.d04_analysation.comparison\n",
    "importlib.reload(src.d04_analysation.comparison)\n",
    "\n",
    "import src.d03_visiualisation.tabel_visiualisation\n",
    "importlib.reload(src.d03_visiualisation.tabel_visiualisation)\n",
    "\n",
    "import src.d03_visiualisation.bar_diagram\n",
    "importlib.reload(src.d03_visiualisation.bar_diagram)\n",
    "\n",
    "import src.d03_visiualisation.head_map\n",
    "importlib.reload(src.d03_visiualisation.head_map)\n",
    "\n",
    "import src.d03_visiualisation.graf_arrival_rate\n",
    "importlib.reload(src.d03_visiualisation.graf_arrival_rate)\n",
    "\n",
    "import src.d03_visiualisation.graf_interval_threshold\n",
    "importlib.reload(src.d03_visiualisation.graf_interval_threshold)\n",
    "\n",
    "import src.d03_visiualisation.tabel_visiualisation\n",
    "importlib.reload(src.d03_visiualisation.tabel_visiualisation)"
   ]
  },
  {
   "cell_type": "markdown",
   "source": [
    "### load darknet Teleskope data"
   ],
   "metadata": {
    "collapsed": false
   },
   "id": "516c75bcb0f71d9f"
  },
  {
   "cell_type": "code",
   "execution_count": null,
   "outputs": [],
   "source": [
    "from src.d01_data.read_files import load_latest_dataframe\n",
    "from src.d01_data.log_names_enum import LogNamesEnum\n",
    "from src.config import *\n",
    "\n",
    "address_notice: pd.DataFrame = load_latest_dataframe(LogNamesEnum.xcaddressnotice)\n",
    "address_notice: pd.DataFrame = address_notice[address_notice['note'] == 'ScanUDP::Address_Scan']\n",
    "address_notice_unique: pd.DataFrame = address_notice.drop_duplicates(subset='src', keep='first')\n",
    "address_conn: pd.DataFrame = load_latest_dataframe(LogNamesEnum.caddressconn)\n",
    "\n",
    "port_notice: pd.DataFrame = load_latest_dataframe(LogNamesEnum.zportnotice)\n",
    "port_notice: pd.DataFrame = port_notice[port_notice['note'] == 'ScanUDP::Port_Scan']\n",
    "port_notice_unique: pd.DataFrame = port_notice.drop_duplicates(subset='src', keep='first')\n",
    "port_conn: pd.DataFrame = load_latest_dataframe(LogNamesEnum.cportconn)"
   ],
   "metadata": {
    "collapsed": false
   },
   "id": "4f1a2b8032569f00"
  },
  {
   "cell_type": "markdown",
   "source": [
    "### load cloud Teleskope data"
   ],
   "metadata": {
    "collapsed": false
   },
   "id": "93a264e22cec821a"
  },
  {
   "cell_type": "code",
   "execution_count": null,
   "outputs": [],
   "source": [
    "from src.config import *\n",
    "down_time_start = pd.Timestamp(\"2025-01-25 11:00:00\").timestamp()\n",
    "down_time_end = pd.Timestamp(\"2025-01-27 19:00:00\").timestamp()\n",
    "\n",
    "port_scan: pd.DataFrame = load_latest_dataframe(LogNamesEnum.portscans)\n",
    "port_scan = port_scan[(port_scan['ts'] < down_time_start) | (port_scan['ts'] > down_time_end)]\n",
    "port_scan_unique: pd.DataFrame = port_scan.drop_duplicates(subset='src', keep='first')\n",
    "\n",
    "address_scan: pd.DataFrame = load_latest_dataframe(LogNamesEnum.addressscans)\n",
    "address_scan = address_scan[(address_scan['ts'] < down_time_start) | (address_scan['ts'] > down_time_end)]\n",
    "address_scan_unique: pd.DataFrame = address_scan.drop_duplicates(subset='src', keep='first')\n"
   ],
   "metadata": {
    "collapsed": false
   },
   "id": "84d2a937dba77671"
  },
  {
   "cell_type": "code",
   "execution_count": null,
   "outputs": [],
   "source": [
    "conn: pd.DataFrame = load_latest_dataframe(LogNamesEnum.conn)\n",
    "conn_udp: pd.DataFrame = conn[conn['proto'] == 'udp']"
   ],
   "metadata": {
    "collapsed": false
   },
   "id": "b845aa386c18a6bc"
  },
  {
   "cell_type": "code",
   "execution_count": null,
   "outputs": [],
   "source": [
    "from src.config import *\n",
    "\n",
    "address_cloud_in_darknet: pd.DataFrame = address_scan_unique[address_scan_unique['src'].isin(address_caida)]\n",
    "\n",
    "address_cloud_not_in_darknet: pd.DataFrame = address_scan_unique[~address_scan_unique['src'].isin(address_caida)]"
   ],
   "metadata": {
    "collapsed": false
   },
   "id": "78261fa27e410648"
  },
  {
   "cell_type": "code",
   "execution_count": null,
   "outputs": [],
   "source": [
    "from src.config import *\n",
    "\n",
    "port_cloud_in_darknet: pd.DataFrame = port_scan_unique[port_scan_unique['src'].isin(port_caida)]\n",
    "\n",
    "port_cloud_not_in_darknet: pd.DataFrame = port_scan_unique[~port_scan_unique['src'].isin(port_caida)]"
   ],
   "metadata": {
    "collapsed": false
   },
   "id": "b467b61bfd045ece"
  },
  {
   "cell_type": "markdown",
   "source": [
    "### show top scanner"
   ],
   "metadata": {
    "collapsed": false
   },
   "id": "8b78374e7c39c305"
  },
  {
   "cell_type": "code",
   "execution_count": null,
   "outputs": [],
   "source": [
    "from src.d04_analysation.count_percent import *\n",
    "from src.d03_visiualisation.bar_diagram import *\n",
    "from src.d04_analysation.reverse_dns_lookup import *\n",
    "def show_top_scanner(darknet_df: pd.DataFrame):\n",
    "    conn_rir: pd.DataFrame = conn_udp[['id.orig_h', 'orig_as_name_rir']]\n",
    "    conn_rir = conn_rir.drop_duplicates(subset='id.orig_h', keep='first')\n",
    "    \n",
    "    darknet_df_calculation: pd.DataFrame = column_calculation(darknet_df, {'src': -1}, False)[0].result_as_df\n",
    "    darknet_df_calculation = darknet_df_calculation.drop(index=darknet_df_calculation.index[0])\n",
    "    darknet_df_calculation = darknet_df_calculation.head(10) \n",
    "    \n",
    "    darknet_df_calculation_rir: pd.DataFrame = darknet_df_calculation.merge(conn_rir, how='left', left_on='src', right_on='id.orig_h')\n",
    "    \n",
    "    \n",
    "    basic_bar_diagram(df=darknet_df_calculation_rir, x_column='orig_as_name_rir', y_column='total', x_lable='RIR Name', y_lable='Anzahl Scanner')\n",
    "    \n",
    "show_top_scanner(cloud_darknet)"
   ],
   "metadata": {
    "collapsed": false
   },
   "id": "ac78888c581fcbb1"
  },
  {
   "cell_type": "markdown",
   "source": [
    "### calc caida address"
   ],
   "metadata": {
    "collapsed": false
   },
   "id": "695cfe0c7b3d4d5f"
  },
  {
   "cell_type": "code",
   "execution_count": null,
   "outputs": [],
   "source": [
    "from src.d04_analysation.comparison import *\n",
    "\n",
    "address_cloud_in_darknet_country = add_country_information(address_cloud_in_darknet, conn_udp)\n",
    "address_cloud_not_in_darknet_country = add_country_information(address_cloud_not_in_darknet, conn_udp)\n",
    "\n",
    "address_cloud_in_darknet_usa = address_cloud_in_darknet_country[address_cloud_in_darknet_country['orig_timezone_location'] == 'America']\n",
    "address_cloud_in_darknet_not_usa = address_cloud_in_darknet_country[address_cloud_in_darknet_country['orig_timezone_location'] != 'America']\n",
    "\n",
    "address_cloud_not_in_darknet_usa = address_cloud_not_in_darknet_country[address_cloud_not_in_darknet_country['orig_timezone_location'] == 'America']\n",
    "address_cloud_not_in_darknet_not_usa = address_cloud_not_in_darknet_country[address_cloud_not_in_darknet_country['orig_timezone_location'] != 'America']"
   ],
   "metadata": {
    "collapsed": false
   },
   "id": "d334352f6eab0b9e"
  },
  {
   "cell_type": "markdown",
   "source": [
    "### calc caida port"
   ],
   "metadata": {
    "collapsed": false
   },
   "id": "29f00e67f8804ba6"
  },
  {
   "cell_type": "code",
   "execution_count": null,
   "outputs": [],
   "source": [
    "from src.d04_analysation.comparison import *\n",
    "\n",
    "port_cloud_in_darknet_country = add_country_information(port_cloud_in_darknet, conn_udp)\n",
    "port_cloud_not_in_darknet_country = add_country_information(port_cloud_not_in_darknet, conn_udp)\n",
    "\n",
    "port_cloud_in_darknet_usa = port_cloud_in_darknet_country[port_cloud_in_darknet_country['orig_timezone_location'] == 'America']\n",
    "port_cloud_in_darknet_not_usa = port_cloud_in_darknet_country[port_cloud_in_darknet_country['orig_timezone_location'] != 'America']\n",
    "\n",
    "port_cloud_not_in_darknet_usa = port_cloud_not_in_darknet_country[port_cloud_not_in_darknet_country['orig_timezone_location'] == 'America']\n",
    "port_cloud_not_in_darknet_not_usa = port_cloud_not_in_darknet_country[port_cloud_not_in_darknet_country['orig_timezone_location'] != 'America']"
   ],
   "metadata": {
    "collapsed": false
   },
   "id": "988b0ba017210244"
  },
  {
   "cell_type": "code",
   "execution_count": null,
   "outputs": [],
   "source": [
    "display(cloud_in_darknet_usa)\n",
    "display(cloud_in_darknet_not_usa)\n",
    "display(cloud_not_in_darknet_usa)\n",
    "display(cloud_not_in_darknet_not_usa)"
   ],
   "metadata": {
    "collapsed": false
   },
   "id": "da9f07a4c595f01"
  },
  {
   "cell_type": "markdown",
   "source": [
    "### show comparison address"
   ],
   "metadata": {
    "collapsed": false
   },
   "id": "712d3f725e44e579"
  },
  {
   "cell_type": "code",
   "execution_count": null,
   "outputs": [],
   "source": [
    "from src.d03_visiualisation.bar_diagram import *\n",
    "def show_comparison_result(comparison_result_df: pd.DataFrame, saving_name: str, legend: bool):\n",
    "    \n",
    "    labels = ['Gesamt', 'USA', 'Nicht USA']\n",
    "    \n",
    "    plot_overlapping_bars(comparison_result_df['y1_values'].tolist(), comparison_result_df['y2_values'].tolist(), labels, saving_name=saving_name, legend=legend, label_1='In CAIDA',label_2='Nicht in CAIDA', width=4, height=5, gap=0.12, bar_width=0.1).show()\n",
    "    return comparison_result_df\n",
    "\n",
    "address_comparison_result_df: pd.DataFrame = pd.DataFrame({\n",
    "        'y1_values': [len(address_cloud_in_darknet_country), len(address_cloud_in_darknet_usa), len(address_cloud_in_darknet_not_usa)],\n",
    "        'y2_values': [ len(address_cloud_not_in_darknet_country), len(address_cloud_not_in_darknet_usa), len(address_cloud_not_in_darknet_not_usa)]\n",
    "    })\n",
    "port_comparison_result_df: pd.DataFrame = pd.DataFrame({\n",
    "        'y1_values': [len(port_cloud_in_darknet_country), len(port_cloud_in_darknet_usa), len(port_cloud_in_darknet_not_usa)],\n",
    "        'y2_values': [ len(port_cloud_not_in_darknet_country), len(port_cloud_not_in_darknet_usa), len(port_cloud_not_in_darknet_not_usa)]\n",
    "    })\n",
    "\n",
    "show_comparison_result(address_comparison_result_df, 'caida_address_overlapping_bars', True)\n",
    "show_comparison_result(port_comparison_result_df, 'caida_port_overlapping_bars', False)"
   ],
   "metadata": {
    "collapsed": false
   },
   "id": "e6608331f1a6ce86"
  },
  {
   "cell_type": "code",
   "execution_count": null,
   "outputs": [],
   "source": [
    "from src.d03_visiualisation.tabel_visiualisation import *\n",
    "\n",
    "conn_udp_rir_ = conn_udp[['id.orig_h', 'orig_as_name_rir']]\n",
    "conn_udp_rir_ = conn_udp_rir_.drop_duplicates(subset='id.orig_h', keep='first')\n",
    "\n",
    "top_10_address_in_c = pd.DataFrame({\n",
    "    'src': top_10_address_in_caida\n",
    "})\n",
    "top_10_address_in_c = top_10_address_in_c.merge(conn_udp_rir_, how='left', left_on='src', right_on='id.orig_h')\n",
    "\n",
    "top_10_address_not_in_c = pd.DataFrame({\n",
    "    'src': top_10_address_not_in_caida\n",
    "})\n",
    "top_10_address_not_in_c = top_10_address_not_in_c.merge(conn_udp_rir_, how='left', left_on='src', right_on='id.orig_h')\n",
    "\n",
    "top_10_address = pd.DataFrame({\n",
    "    'In_CAIDA_gefunden': top_10_address_in_c['src'].tolist(),\n",
    "    'Nicht in_CAIDA_gefunden': top_10_address_not_in_c['src'].tolist() \n",
    "})\n",
    "\n",
    "\n",
    "top_10_port_in_c = pd.DataFrame({\n",
    "    'src': top_10_port_in_caida\n",
    "})\n",
    "top_10_port_in_c = top_10_port_in_c.merge(conn_udp_rir_, how='left', left_on='src', right_on='id.orig_h')\n",
    "\n",
    "top_10_port_not_in_c = pd.DataFrame({\n",
    "    'src': top_10_port_not_in_caida\n",
    "})\n",
    "top_10_port_not_in_c = top_10_port_not_in_c.merge(conn_udp_rir_, how='left', left_on='src', right_on='id.orig_h')\n",
    "\n",
    "top_10_port = pd.DataFrame({\n",
    "    'In_CAIDA_gefunden': top_10_port_in_c['src'].tolist(),\n",
    "    'Nicht in_CAIDA_gefunden': top_10_port_not_in_c['src'].tolist() \n",
    "})\n",
    "column_widths = {\n",
    "        \"In_CAIDA_gefunden\": 0.7,\n",
    "        \"in_CAIDA_gefunden\": 0.7,\n",
    "    }\n",
    "row_heights = [0.08, 0.1, 0.1, 0.1, 0.1, 0.1, 0.1, 0.1, 0.1, 0.1, 0.1]\n",
    "\n",
    "show_two_basic_table(top_10_address, col_widths=column_widths, row_heights=row_heights, saving_name='caida_address_rir')"
   ],
   "metadata": {
    "collapsed": false
   },
   "id": "1ee30f2000a19f21"
  }
 ],
 "metadata": {
  "kernelspec": {
   "display_name": "Python 3",
   "language": "python",
   "name": "python3"
  },
  "language_info": {
   "codemirror_mode": {
    "name": "ipython",
    "version": 2
   },
   "file_extension": ".py",
   "mimetype": "text/x-python",
   "name": "python",
   "nbconvert_exporter": "python",
   "pygments_lexer": "ipython2",
   "version": "2.7.6"
  }
 },
 "nbformat": 4,
 "nbformat_minor": 5
}
