{
 "cells": [
  {
   "cell_type": "code",
   "execution_count": null,
   "id": "initial_id",
   "metadata": {
    "collapsed": true
   },
   "outputs": [],
   "source": [
    "from pathlib import Path\n",
    "import os\n",
    "if not str(Path.cwd()).endswith('/Cloud-Telescope'):\n",
    "    os.chdir(Path.cwd().parent)\n",
    "    print(f'New working dir is {Path.cwd()}')    \n",
    "    \n",
    "import importlib\n",
    "import pandas as pd\n",
    "\n",
    "import src.d01_data.read_files \n",
    "importlib.reload(src.d01_data.read_files)\n",
    "import src.d01_data.save_files\n",
    "importlib.reload(src.d01_data.save_files)\n",
    "import src.d01_data.log_names_enum\n",
    "importlib.reload(src.d01_data.log_names_enum)\n",
    "\n",
    "import src.d03_visiualisation.tabel_visiualisation\n",
    "importlib.reload(src.d03_visiualisation.tabel_visiualisation)\n",
    "\n",
    "import src.d04_analysation.count_percent\n",
    "importlib.reload(src.d04_analysation.count_percent)"
   ]
  },
  {
   "cell_type": "markdown",
   "source": [
    "### Show ntp as table"
   ],
   "metadata": {
    "collapsed": false
   },
   "id": "afe69d3b950b9408"
  },
  {
   "cell_type": "code",
   "execution_count": null,
   "outputs": [],
   "source": [
    "from src.d01_data.read_files import load_latest_dataframe\n",
    "from src.d01_data.log_names_enum import LogNamesEnum\n",
    "\n",
    "ntp: pd.DataFrame = load_latest_dataframe(LogNamesEnum.ntp)\n",
    "ntp"
   ],
   "metadata": {
    "collapsed": false
   },
   "id": "fb5257539d32f512"
  },
  {
   "cell_type": "markdown",
   "source": [
    "### Print basic information about ntp file"
   ],
   "metadata": {
    "collapsed": false
   },
   "id": "e66f91d0a0366686"
  },
  {
   "cell_type": "code",
   "execution_count": null,
   "outputs": [],
   "source": [
    "from src.d04_analysation.count_percent import *\n",
    "\n",
    "columns_for_inspecting_01: dict[str, int] = {\n",
    "    'id.orig_h': -1,\n",
    "    'id.orig_p': -1,\n",
    "    'id.resp_h': -1,\n",
    "    'id.resp_p': -1,\n",
    "}\n",
    "\n",
    "\n",
    "def calculate_and_print_column_stats(columns_for_inspecting: dict[str, int]) -> list[ColumnResults]:\n",
    "    column_results_list: list[ColumnResults] = column_calculation(ntp, columns_for_inspecting, False)\n",
    "    for column_result in column_results_list:\n",
    "        display(column_result.result_as_df)\n",
    "    return column_results_list\n",
    "\n",
    "column_result_list: list[ColumnResults] = calculate_and_print_column_stats(columns_for_inspecting_01)"
   ],
   "metadata": {
    "collapsed": false
   },
   "id": "984dc9a8c5fae59b"
  }
 ],
 "metadata": {
  "kernelspec": {
   "display_name": "Python 3",
   "language": "python",
   "name": "python3"
  },
  "language_info": {
   "codemirror_mode": {
    "name": "ipython",
    "version": 2
   },
   "file_extension": ".py",
   "mimetype": "text/x-python",
   "name": "python",
   "nbconvert_exporter": "python",
   "pygments_lexer": "ipython2",
   "version": "2.7.6"
  }
 },
 "nbformat": 4,
 "nbformat_minor": 5
}
