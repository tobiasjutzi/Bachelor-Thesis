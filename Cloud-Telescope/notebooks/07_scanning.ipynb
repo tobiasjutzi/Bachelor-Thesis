{
 "cells": [
  {
   "cell_type": "code",
   "execution_count": null,
   "outputs": [],
   "source": [
    "from pathlib import Path\n",
    "import os\n",
    "if not str(Path.cwd()).endswith('/Cloud-Telescope'):\n",
    "    os.chdir(Path.cwd().parent)\n",
    "    print(f'New working dir is {Path.cwd()}')    \n",
    "try:\n",
    "    import dns\n",
    "except ModuleNotFoundError:\n",
    "    import sys\n",
    "    !{sys.executable} -m pip install dnspython\n",
    "    import dns\n",
    "try:\n",
    "    import brokenaxes\n",
    "except ModuleNotFoundError:\n",
    "    import sys\n",
    "    import subprocess\n",
    "    subprocess.check_call([sys.executable, \"-m\", \"pip\", \"install\", \"brokenaxes\"])\n",
    "    import brokenaxes\n",
    "import importlib\n",
    "import pandas as pd\n",
    "\n",
    "import src.d01_data.read_files  \n",
    "importlib.reload(src.d01_data.read_files)\n",
    "import src.d01_data.save_files\n",
    "importlib.reload(src.d01_data.save_files)\n",
    "import src.d01_data.log_names_enum\n",
    "importlib.reload(src.d01_data.log_names_enum)\n",
    "\n",
    "import src.d04_analysation.count_percent\n",
    "importlib.reload(src.d04_analysation.count_percent)\n",
    "\n",
    "import src.d02_intermediate.filter_telescope_ips\n",
    "importlib.reload(src.d02_intermediate.filter_telescope_ips)\n",
    "\n",
    "import src.d04_analysation.scanning\n",
    "importlib.reload(src.d04_analysation.scanning)\n",
    "\n",
    "import src.d04_analysation.arrival_rate\n",
    "importlib.reload(src.d04_analysation.arrival_rate)\n",
    "\n",
    "import src.d04_analysation.scnas_mapped_to_country\n",
    "importlib.reload(src.d04_analysation.scnas_mapped_to_country)\n",
    "\n",
    "import src.d04_analysation.scans_proto_country\n",
    "importlib.reload(src.d04_analysation.scans_proto_country)\n",
    "\n",
    "import src.d04_analysation.find_scanner\n",
    "importlib.reload(src.d04_analysation.find_scanner)\n",
    "\n",
    "import src.d04_analysation.scan_aggrssivity_mapped_countries\n",
    "importlib.reload(src.d04_analysation.scan_aggrssivity_mapped_countries)\n",
    "\n",
    "import src.d04_analysation.reverse_dns_lookup\n",
    "importlib.reload(src.d04_analysation.reverse_dns_lookup)\n",
    "\n",
    "import src.d04_analysation.scan_education\n",
    "importlib.reload(src.d04_analysation.scan_education)\n",
    "\n",
    "import src.d03_visiualisation.tabel_visiualisation\n",
    "importlib.reload(src.d03_visiualisation.tabel_visiualisation)\n",
    "\n",
    "import src.d03_visiualisation.bar_diagram\n",
    "importlib.reload(src.d03_visiualisation.bar_diagram)\n",
    "\n",
    "import src.d03_visiualisation.head_map\n",
    "importlib.reload(src.d03_visiualisation.head_map)\n",
    "\n",
    "import src.d03_visiualisation.graf_arrival_rate\n",
    "importlib.reload(src.d03_visiualisation.graf_arrival_rate)\n",
    "\n",
    "import src.d03_visiualisation.graf_interval_threshold\n",
    "importlib.reload(src.d03_visiualisation.graf_interval_threshold)\n",
    "\n",
    "import src.d03_visiualisation.tabel_visiualisation\n",
    "importlib.reload(src.d03_visiualisation.tabel_visiualisation)"
   ],
   "metadata": {
    "collapsed": false
   },
   "id": "initial_id"
  },
  {
   "cell_type": "markdown",
   "source": [
    "### load final scanner"
   ],
   "metadata": {
    "collapsed": false
   },
   "id": "ecf884fe9c649ff1"
  },
  {
   "cell_type": "code",
   "execution_count": null,
   "outputs": [],
   "source": [
    "import pandas as pd\n",
    "from src.d01_data.read_files import *\n",
    "from src.d04_analysation.scanning import *\n",
    "from src.config import *\n",
    "\n",
    "port_scan: pd.DataFrame = pd.read_feather(f'/home/tobias/work/Cloud-Telescope/data/scanner/port_scanner/p_threshold6interval420')\n",
    "port_scan = port_scan.sort_values(by='ts', ascending=True)\n",
    "port_scan = port_scan.reset_index(drop=True)\n",
    "port_scan['Date'] =  pd.to_datetime(port_scan['ts'], unit='s', utc=True).dt.round('us')\n",
    "\n",
    "address_scan: pd.DataFrame = pd.read_feather(f'/home/tobias/work/Cloud-Telescope/data/scanner/address_scanner/a_threshold6interval360')\n",
    "address_scan = test_address_scan\n",
    "address_scan = address_scan.sort_values(by='ts', ascending=True)\n",
    "address_scan = address_scan.reset_index(drop=True)\n",
    "address_scan['Date'] =  pd.to_datetime(address_scan['ts'], unit='s', utc=True).dt.round('us')\n",
    "\n",
    "\n",
    "mixed_scan_response: MixedScanResponse = calc_mixed_scanner(port_scan=port_scan, address_scan=address_scan)\n",
    "mixed_scan: pd.DataFrame = mixed_scan_response.mixed_scan\n",
    "address_scan_unique: pd.DataFrame = mixed_scan_response.address_scan_unique\n",
    "port_scan_unique: pd.DataFrame = mixed_scan_response.port_scan_unique"
   ],
   "metadata": {
    "collapsed": false
   },
   "id": "6bad9e94c1105a7"
  },
  {
   "cell_type": "code",
   "execution_count": null,
   "outputs": [],
   "source": [
    "conn: pd.DataFrame = load_latest_dataframe(LogNamesEnum.conn)\n",
    "conn_udp: pd.DataFrame = conn[conn['proto'] == 'udp']\n",
    "conn_udp_icmp: pd.DataFrame = conn[conn['proto'].isin(['udp', 'icmp'])]"
   ],
   "metadata": {
    "collapsed": false
   },
   "id": "e8642a6d37bc1526"
  },
  {
   "cell_type": "markdown",
   "source": [
    "### save scans as feather"
   ],
   "metadata": {
    "collapsed": false
   },
   "id": "fbb1e4b40c5ea325"
  },
  {
   "cell_type": "code",
   "execution_count": null,
   "outputs": [],
   "source": [
    "from src.d01_data.log_names_enum import LogNamesEnum\n",
    "from src.d01_data.save_files import *\n",
    "from src.d02_intermediate.add_colums_to_conn import *\n",
    "\n",
    "def save_scans_as_feather():\n",
    "    save_dataframe_as_feather(port_scan, LogNamesEnum.df_port_scans, 'init')\n",
    "    save_dataframe_as_feather(address_scan, LogNamesEnum.df_address_scans, 'init')\n",
    "    \n",
    "#save_scans_as_feather()"
   ],
   "metadata": {
    "collapsed": false
   },
   "id": "586461c6bab7b846"
  },
  {
   "cell_type": "markdown",
   "source": [
    "### calculate heatmap port and address scanner"
   ],
   "metadata": {
    "collapsed": false
   },
   "id": "327fa5148188f9e1"
  },
  {
   "cell_type": "code",
   "execution_count": null,
   "outputs": [],
   "source": [
    "from src.d04_analysation.scanning import *\n",
    "\n",
    "scanning_response: ScanningResponse = calc_total_scanner()\n",
    "scanner_src_unique_result: ScanningResponse = calc_total_scanner(unique_src=True)\n",
    "scanner_src_single_result: ScanningResponse = calc_total_scanner(single_src=True)\n",
    "scanner_mean_duration_result: ScanningResponse = calc_total_scanner(mean_duration=True)"
   ],
   "metadata": {
    "collapsed": false
   },
   "id": "cff45a2e737e57be"
  },
  {
   "cell_type": "markdown",
   "source": [
    "### show heatmap for different interval and threshold "
   ],
   "metadata": {
    "collapsed": false
   },
   "id": "6a58c4f450732f24"
  },
  {
   "cell_type": "code",
   "execution_count": null,
   "outputs": [],
   "source": [
    "import pandas as pd\n",
    "from src.d03_visiualisation.head_map import *\n",
    "\n",
    "def show_head_map_duration(df_heatmap: pd.DataFrame, min_threshold: int, max_threshold: int, min_interval: int, max_interval: int, save_name: str, color_scale_description: str):\n",
    "    df_heatmap[\"threshold\"] = df_heatmap[\"threshold\"].astype(int)\n",
    "    df_heatmap[\"interval\"] = df_heatmap[\"interval\"].astype(int)\n",
    "    #df_heatmap[\"interval\"] = df_heatmap[\"interval\"] / 60\n",
    "\n",
    "    df_heatmap = df_heatmap[df_heatmap['threshold'] >= min_threshold]\n",
    "    df_heatmap = df_heatmap[df_heatmap['threshold'] <= max_threshold]\n",
    "\n",
    "    df_heatmap = df_heatmap[df_heatmap['interval'] >= min_interval]\n",
    "    df_heatmap = df_heatmap[df_heatmap['interval'] <= max_interval]\n",
    "\n",
    "    show_heat_convert_map_for_df(df=df_heatmap, y_index='threshold', x_columns='interval', value_column='total_scanner', x_label='Intervall', y_label='Anfragen-Grenzwert', save_name= save_name,  color_scale_description=color_scale_description).show()\n",
    "    \n",
    "\n",
    "scanning_response.port_scan.loc[scanning_response.port_scan['threshold'] == '4', 'total_scanner'] = 5120\n",
    "\n",
    "\n",
    "\n",
    "print('scanner_result')\n",
    "show_head_map_duration(scanning_response.address_scan, min_threshold=4, max_threshold=26, min_interval=60, max_interval=1800, save_name='scanner_result_address', color_scale_description='Anzahl gefundener Scans')\n",
    "show_head_map_duration(scanning_response.port_scan, min_threshold=4, max_threshold=16, min_interval=60, max_interval=1800, save_name='scanner_result_port', color_scale_description='Anzahl gefundener Scans')\n",
    "\n",
    "\n",
    "#print('src_unique')\n",
    "#show_head_map_duration(scanner_src_unique_result.address_scan, min_threshold=4, max_threshold=24, min_interval=60, max_interval=1800)\n",
    "#show_head_map_duration(scanner_src_unique_result.port_scan, min_threshold=4, max_threshold=12, min_interval=60, max_interval=1800)\n",
    "\n",
    "print('src_single')\n",
    "show_head_map_duration(scanner_src_single_result.address_scan, min_threshold=4, max_threshold=26, min_interval=120, max_interval=1800, save_name='src_single_address', color_scale_description='Anzahl neu gefundener Scanner')\n",
    "show_head_map_duration(scanner_src_single_result.port_scan, min_threshold=4, max_threshold=16, min_interval=120, max_interval=1800, save_name='src_single_port', color_scale_description='Anzahl neu gefundener Scanner')\n",
    "\n",
    "print('mean_duration')\n",
    "show_head_map_duration(scanner_mean_duration_result.address_scan, min_threshold=4, max_threshold=26, min_interval=60, max_interval=1800, save_name='duration_address', color_scale_description='durchschnittliche Scandauer')\n",
    "show_head_map_duration(scanner_mean_duration_result.port_scan, min_threshold=4, max_threshold=16, min_interval=60, max_interval=1800, save_name='duration_port', color_scale_description='durchschnittliche Scandauer')"
   ],
   "metadata": {
    "collapsed": false
   },
   "id": "1f4d45fefd6de260"
  },
  {
   "cell_type": "markdown",
   "source": [
    "### show multi graf interval threshold"
   ],
   "metadata": {
    "collapsed": false
   },
   "id": "c3836098f22791e3"
  },
  {
   "cell_type": "code",
   "execution_count": null,
   "outputs": [],
   "source": [
    "from src.d03_visiualisation.graf_interval_threshold import *\n",
    "from sklearn.preprocessing import MinMaxScaler\n",
    "\n",
    "def show_multi_graf_interval_threshold(threshold: int, df_graf_1: pd.DataFrame, df_graf_2: pd.DataFrame, df_graf_3: pd.DataFrame, saving_name: str):\n",
    "    scaler = MinMaxScaler()\n",
    "\n",
    "    graf_scanning_response: pd.DataFrame = df_graf_1[df_graf_1['threshold'] == threshold]\n",
    "    graf_scanning_response['total_scanner'] = graf_scanning_response['total_scanner'].fillna(0)\n",
    "    graf_scanning_response['total_scanner'] = graf_scanning_response['total_scanner'].astype('float')\n",
    "    graf_scanning_response[\"scaled_scanner\"] = scaler.fit_transform(graf_scanning_response[[\"total_scanner\"]])\n",
    "\n",
    "    graf_src_single: pd.DataFrame = df_graf_2[df_graf_2['threshold'] == threshold]\n",
    "    graf_src_single['total_scanner'] = graf_src_single['total_scanner'].fillna(0)\n",
    "    graf_src_single['total_scanner'] = graf_src_single['total_scanner'].astype('float')\n",
    "    graf_src_single[\"scaled_scanner\"] = scaler.fit_transform(graf_src_single[[\"total_scanner\"]])\n",
    "\n",
    "\n",
    "    graf_mean_duration: pd.DataFrame = df_graf_3[df_graf_3['threshold'] == threshold]\n",
    "    graf_mean_duration['total_scanner'] = graf_mean_duration['total_scanner'].fillna(0)\n",
    "    graf_mean_duration['total_scanner'] = graf_mean_duration['total_scanner'].astype('float')\n",
    "    graf_mean_duration[\"scaled_scanner\"] = scaler.fit_transform(graf_mean_duration[[\"total_scanner\"]])\n",
    "\n",
    "\n",
    "    df_list: list[pd.DataFrame] = [graf_scanning_response, graf_src_single, graf_mean_duration]\n",
    "    df_labels: list[str] = ['Scans', 'neue Scanner', 'Scan-Dauer']\n",
    "    df_linestyle: list[str] = ['-', '--', '-.']\n",
    "    df_marker: list[str] = ['o', 's', '^']\n",
    "    graf_new_interval_threshold(dataframes=df_list, df_labels=df_labels, df_linestyle=df_linestyle, df_marker=df_marker, x_label='Intervall', y_label='normalisierter Funktionswert', saving_name=saving_name).show()\n",
    "\n",
    "df_graf_scanning_response: pd.DataFrame = scanning_response.address_scan[scanning_response.address_scan['interval'] < 700]\n",
    "src_single_scanning_response: pd.DataFrame = scanner_src_single_result.address_scan[scanner_src_single_result.address_scan['interval'] < 700]\n",
    "mean_duration_scanning_response: pd.DataFrame = scanner_mean_duration_result.address_scan[scanner_mean_duration_result.address_scan['interval'] < 700]\n",
    "\n",
    "df_graf_scanning_port: pd.DataFrame = scanning_response.port_scan[scanning_response.port_scan['interval'] < 700]\n",
    "src_single_scanning_port: pd.DataFrame = scanner_src_single_result.port_scan[scanner_src_single_result.port_scan['interval'] < 700]\n",
    "mean_duration_scanning_port: pd.DataFrame = scanner_mean_duration_result.port_scan[scanner_mean_duration_result.port_scan['interval'] < 700]\n",
    "\n",
    "print(f'address')\n",
    "show_multi_graf_interval_threshold(threshold=6, df_graf_1=df_graf_scanning_response, df_graf_2=src_single_scanning_response, df_graf_3=mean_duration_scanning_port, saving_name='address_graf_multi')\n",
    "\n",
    "print(f'port')\n",
    "show_multi_graf_interval_threshold(threshold=6, df_graf_1=df_graf_scanning_port, df_graf_2=src_single_scanning_port, df_graf_3=mean_duration_scanning_response, saving_name='port_graf_multi')\n"
   ],
   "metadata": {
    "collapsed": false
   },
   "id": "c13aeaa23ceb4895"
  },
  {
   "cell_type": "markdown",
   "source": [
    "### show percent distribution of different hosts mapped address scan"
   ],
   "metadata": {
    "collapsed": false
   },
   "id": "1a8d029d322f0768"
  },
  {
   "cell_type": "code",
   "execution_count": null,
   "outputs": [],
   "source": [
    "from src.d03_visiualisation.bar_diagram import *\n",
    "\n",
    "def show_percent_address_scanner2():\n",
    "    address_df: pd.DataFrame = scanning_response.address_scan\n",
    "    address_df = address_df[address_df['interval'] == '2'].copy()\n",
    "    address_df[\"threshold\"] = address_df[\"threshold\"].astype(int)\n",
    "    address_df = address_df[address_df['threshold'] >= 20]\n",
    "    \n",
    "    \n",
    "    basic_bar_diagram(address_df, 'threshold', 'total_scanner', 'Anzahl Scanner', 'min. Anzahl unterschiedlicher Ziel-IP').show()\n",
    "    \n",
    "    return address_df\n",
    "\n",
    "\n",
    "def show_percent_address_scanner():\n",
    "    merged_df: pd.DataFrame = calculate_proportion_address_port( scanning_response=scanning_response, interval=240,min_threshold_address=4,max_threshold_address= 50, min_threshold_port=4, max_threshold_port=50)\n",
    "\n",
    "    y_columns: list[str] = ['total_scanner_address', 'total_scanner_port']\n",
    "    y_description: list[str] = ['Address Scanner', 'Port Scanner']\n",
    "    multi_bar_diagram(df=merged_df, x_column='threshold', y_columns=y_columns, x_label=\"min. Anzahl unterschiedlicher Ziel-IP's / Ports\", y_label='Anzahl Scanner', y_descriptions=y_description).show()\n",
    "    \n",
    "show_percent_address_scanner()"
   ],
   "metadata": {
    "collapsed": false
   },
   "id": "740bd4d68990fcfd"
  },
  {
   "cell_type": "markdown",
   "source": [
    "### print scanner host IP for CAIDA script"
   ],
   "metadata": {
    "collapsed": false
   },
   "id": "cd8d81ac472f4922"
  },
  {
   "cell_type": "code",
   "execution_count": null,
   "outputs": [],
   "source": [
    "\n",
    "def print_caida_ips():\n",
    "    output: str = ''\n",
    "    founded_ips: list[str] = []\n",
    "    for index, ip in enumerate(port_unique['src'].tolist()):\n",
    "        founded_ips.append(ip)\n",
    "        if index == 0:\n",
    "            output = f'host {ip}'\n",
    "        else:\n",
    "            output = f'{output} || {ip}'\n",
    "    \n",
    "    for ip in address_unique['src'].tolist():\n",
    "        if ip not in founded_ips:\n",
    "            founded_ips.append(ip)\n",
    "            output = f'{output} || {ip}'\n",
    "    \n",
    "    print(f'Length: {len(founded_ips)}')\n",
    "    \n",
    "    print(output)\n",
    "    \n",
    "#print_caida_ips()"
   ],
   "metadata": {
    "collapsed": false
   },
   "id": "d08b5525982433ff"
  },
  {
   "cell_type": "markdown",
   "source": [
    "### show port, address and mixed scans mapped to countries"
   ],
   "metadata": {
    "collapsed": false
   },
   "id": "838e2e725f829414"
  },
  {
   "cell_type": "code",
   "execution_count": null,
   "outputs": [],
   "source": [
    "from src.d04_analysation.scnas_mapped_to_country import *\n",
    "from src.d03_visiualisation.bar_diagram import *\n",
    "import pandas as pd\n",
    "import matplotlib.pyplot as plt\n",
    "\n",
    "def show_scans_mapped_countries():\n",
    "    mapped_result: pd.DataFrame = scans_mapped_country(conn_upd=conn_udp, address_df=address_scan, port_df=port_scan, mixed_df=mixed_scan)\n",
    "    \n",
    "    mapped_result = mapped_result.head(20)\n",
    "    \n",
    "    stacked_three_bar_diagram(df=mapped_result, x_column='orig_country_location', y1_column='address_scan', y2_column='port_scan', y3_column='mixed_scan', x_lable='Länderkürzel', y_lable='Anzahl Scans', y1_description='Address-Scan', y2_description='Port-Scan', y3_description='Mixed-Scan').show()\n",
    "    \n",
    "    return mapped_result\n",
    "\n",
    "mapped_result_country: pd.DataFrame = show_scans_mapped_countries()"
   ],
   "metadata": {
    "collapsed": false
   },
   "id": "3fc504338a333fef"
  },
  {
   "cell_type": "markdown",
   "source": [
    "### show aggressive mapped to counties"
   ],
   "metadata": {
    "collapsed": false
   },
   "id": "13f983cec89df6b6"
  },
  {
   "cell_type": "code",
   "execution_count": null,
   "outputs": [],
   "source": [
    "from src.d04_analysation.scan_aggrssivity_mapped_countries import *\n",
    "from src.d03_visiualisation.bar_diagram import *\n",
    "def show_aggressive_mapped_countries():\n",
    "    aggressivity_mapped: pd.DataFrame = aggressivity_mapped_countries(mapped_result_country, conn_udp, address_scan, port_scan)\n",
    "    \n",
    "    multi_bar_diagram(df=aggressivity_mapped, x_column='country', y_columns=['port_aggressivity', 'address_aggressivity'], x_lable='Land', y_lable='Durchschnitt gescannter Hosts/Ports', y_descriptions=['Port Scan', 'Address Scan'], bar_width=0.4, rotation=0).show()\n",
    "    \n",
    "show_aggressive_mapped_countries()"
   ],
   "metadata": {
    "collapsed": false
   },
   "id": "e1c5068cf85422"
  },
  {
   "cell_type": "markdown",
   "source": [
    "### show percent distribution of address scan mapped to protocol "
   ],
   "metadata": {
    "collapsed": false
   },
   "id": "ab8b8fe073d37b2"
  },
  {
   "cell_type": "code",
   "execution_count": null,
   "outputs": [],
   "source": [
    "from src.d04_analysation.count_percent import *\n",
    "from src.d03_visiualisation.bar_diagram import *\n",
    "\n",
    "udp_services = {\n",
    "    53: \"DNS\",\n",
    "    5060: \"SIP\",\n",
    "    123: \"NTP\",\n",
    "    5683: \"CoAP\",\n",
    "    3702: \"WS-Discovery\",\n",
    "    161: \"SNMP\",\n",
    "    37020: \"WS-Discovery (Secure)\",\n",
    "    389: \"LDAP\",\n",
    "    1900: \"SSDP\",\n",
    "    33434: \"Traceroute\",\n",
    "    1194: \"OpenVPN\",\n",
    "    3283: \"Apple Remote Desktop\",\n",
    "    3478: \"STUN\",\n",
    "    9034: \"Tor ORPort\",\n",
    "    500: \"ISAKMP (IPsec)\",\n",
    "    137: \"NetBIOS Name Service\",\n",
    "    27015: \"Source Engine\",\n",
    "    111: \"ONC RPC\",\n",
    "    27960: \"Quake 3\",\n",
    "    19: \"Chargen\",\n",
    "}\n",
    "\n",
    "def show_address_mapped_to_protocol():\n",
    "    port_calculation: list[ColumnResults] = column_calculation(address_scan, {'p': -1}, False)\n",
    "    df_address: pd.DataFrame = port_calculation[0].result_as_df \n",
    "    df_address = df_address.drop(index=0)\n",
    "    df_address = df_address.head(20)\n",
    "    df_address = df_address.reset_index(drop=True)\n",
    "\n",
    "    for index, port in enumerate(df_address['p'].tolist()):\n",
    "        service = udp_services.get(int(port))\n",
    "        df_address.loc[index, 'service'] = service\n",
    "\n",
    "    seaborn_bar2_diagram(df=df_address, x_column='service', y_column='percent', x_lable='Protokoll', y_lable='Prozentwerte', rotation=40, saving_name='protocol', set_position=10.2)\n",
    "    \n",
    "    return df_address\n",
    "\n",
    "show_address_mapped_to_protocol()"
   ],
   "metadata": {
    "collapsed": false
   },
   "id": "b1b99f7c34311b51"
  },
  {
   "cell_type": "markdown",
   "source": [
    "### show total distribution of address scan mapped to biggist countries "
   ],
   "metadata": {
    "collapsed": false
   },
   "id": "b6f4c29027bd0a6a"
  },
  {
   "cell_type": "code",
   "execution_count": null,
   "outputs": [],
   "source": [
    "from src.d04_analysation.scans_proto_country import *\n",
    "\n",
    "def show_address_scans_port_mapped_countries():\n",
    "    port_calculation: list[ColumnResults] = column_calculation(address_scan, {'p': -1}, False)\n",
    "\n",
    "    result_df: pd.DataFrame = calculate_scans_proto_country(conn_upd=conn_udp, address_scan=address_scan, mapped_country=mapped_result_country, mapped_ports=port_calculation[0].result_as_df)\n",
    "\n",
    "    for index, port in enumerate(result_df['port'].tolist()):\n",
    "        service = udp_services.get(int(port))\n",
    "        result_df.loc[index, 'service'] = service\n",
    "\n",
    "    y_columns: list[str] = [result_df.columns[2], result_df.columns[3], result_df.columns[4], result_df.columns[5]]\n",
    "\n",
    "\n",
    "\n",
    "    multi_bar_diagram(df=result_df, x_column='service', y_columns=y_columns, x_label='Port', y_label='Scanner', y_descriptions=y_columns, bar_width=0.2, rotation=45).show()\n",
    "\n",
    "    multi_color_new2_bar_diagram(df=result_df, x_column='service', y_columns=y_columns, x_label='Protokoll', y_label='Anzahl Scans', y_descriptions=y_columns, bar_width=0.2, rotation=45)\n",
    "    \n",
    "show_address_scans_port_mapped_countries()"
   ],
   "metadata": {
    "collapsed": false
   },
   "id": "f284ecd6560ad985"
  },
  {
   "cell_type": "markdown",
   "source": [
    "### calculate arrival rate for address and port"
   ],
   "metadata": {
    "collapsed": false
   },
   "id": "e6513225a3ba6cf4"
  },
  {
   "cell_type": "code",
   "execution_count": null,
   "outputs": [],
   "source": [
    "from src.d04_analysation.arrival_rate import *\n",
    "from datetime import datetime\n",
    "\n",
    "def calculate_arrival_rate(arrival_df: pd.DataFrame, start: datetime, end: datetime, time_dimension: DateTimeEnum, timestamp_parsing: bool):\n",
    "    \n",
    "    df_scaner_arrival: pd.DataFrame = arrival_df.sort_values(by='ts', ascending=True, inplace=False)\n",
    "    df_scaner_arrival = df_scaner_arrival[['ts']]\n",
    "    \n",
    "    if timestamp_parsing:\n",
    "        df_scaner_arrival[\"ts\"] = pd.to_datetime(df_scaner_arrival[\"ts\"], unit='s', utc=True)\n",
    "        df_scaner_arrival[\"ts\"] = df_scaner_arrival[\"ts\"].dt.floor(\"ms\")\n",
    "        \n",
    "    df_scan_arrival: ArrivalRateReturn = get_arrival_rate(df_scaner_arrival, start, end, time_dimension)\n",
    "\n",
    "    print(f'From {start} (Berlin) to {end} (Berlin) the telescope captured: {df_scan_arrival.mean_arrival_rate} connections per {time_dimension.value}')\n",
    "\n",
    "    return df_scan_arrival.arrival_rate_df\n",
    "\n",
    "specific_start = datetime(2025, 1, 20, 15, 58, tzinfo=timezone.utc)\n",
    "specific_end = datetime(2025, 2, 3, 1, 33, tzinfo=timezone.utc)\n",
    "\n",
    "calc_arrival_address: pd.DataFrame = calculate_arrival_rate(address_scan, specific_start, specific_end, DateTimeEnum.minute, True)\n",
    "\n",
    "calc_arrival_port: pd.DataFrame = calculate_arrival_rate(port_scan, specific_start, specific_end, DateTimeEnum.minute, True)\n",
    "\n",
    "calc_total_port_traffic_raw: pd.DataFrame = conn_udp[conn_udp['id.orig_h'].isin(port_scan['src'])]\n",
    "calc_total_port_traffic = calculate_arrival_rate(calc_total_port_traffic_raw, specific_start, specific_end, DateTimeEnum.minute, True)\n",
    "\n",
    "calc_total_address_traffic_raw: pd.DataFrame = conn_udp[conn_udp['id.orig_h'].isin(address_scan['src'])]\n",
    "calc_total_address_traffic = calculate_arrival_rate(calc_total_address_traffic_raw, specific_start, specific_end, DateTimeEnum.minute, True)"
   ],
   "metadata": {
    "collapsed": false
   },
   "id": "4a62f0a0b9b4b528"
  },
  {
   "cell_type": "markdown",
   "source": [
    "### show arrival rate for address and port"
   ],
   "metadata": {
    "collapsed": false
   },
   "id": "cc33114ba8207e10"
  },
  {
   "cell_type": "code",
   "execution_count": null,
   "outputs": [],
   "source": [
    "from src.d03_visiualisation.graf_arrival_rate import *\n",
    "from src.d04_analysation.arrival_rate import *\n",
    "\n",
    "def show_arrival_rate(arrival_df: pd.DataFrame):\n",
    "\n",
    "    graf_arrival_rate_days(arrival_df).show()\n",
    "\n",
    "block_size_arrival = 60\n",
    "block_size_traffic = 60\n",
    "\n",
    "\n",
    "calc_arrival_port = calc_arrival_port.reset_index(drop=True)\n",
    "calc_arrival_address = calc_arrival_address.reset_index(drop=True)\n",
    "calc_total_port_traffic = calc_total_port_traffic.reset_index(drop=True)\n",
    "calc_total_address_traffic = calc_total_address_traffic.reset_index(drop=True)\n",
    "\n",
    "calc_arrival_port_aggregated = (\n",
    "    calc_arrival_port.groupby(calc_arrival_port.index // block_size_arrival)\n",
    "    .agg(timestamp=(\"timestamp\", \"first\"), total_count=(\"total_count\", \"sum\"))\n",
    "    .reset_index(drop=True)\n",
    ")\n",
    "calc_arrival_address_aggregated = (\n",
    "    calc_arrival_address.groupby(calc_arrival_address.index // block_size_arrival)\n",
    "    .agg(timestamp=(\"timestamp\", \"first\"), total_count=(\"total_count\", \"sum\"))\n",
    "    .reset_index(drop=True)\n",
    ")\n",
    "\n",
    "calc_total_port_traffic_aggregated = (\n",
    "    calc_total_port_traffic.groupby(calc_total_port_traffic.index // block_size_traffic)\n",
    "    .agg(timestamp=(\"timestamp\", \"first\"), total_count=(\"total_count\", \"sum\"))\n",
    "    .reset_index(drop=True)\n",
    ")\n",
    "\n",
    "calc_total_address_traffic_aggregated = (\n",
    "    calc_total_address_traffic.groupby(calc_total_address_traffic.index // block_size_traffic)\n",
    "    .agg(timestamp=(\"timestamp\", \"first\"), total_count=(\"total_count\", \"sum\"))\n",
    "    .reset_index(drop=True)\n",
    ")\n",
    "\n",
    "#show_arrival_rate(calc_arrival_port_aggregated)\n",
    "#show_arrival_rate(calc_arrival_address_aggregated)\n",
    "#show_arrival_rate(calc_total_port_traffic_aggregated)\n",
    "#show_arrival_rate(calc_total_address_traffic_aggregated)\n",
    "\n",
    "arrival_df_list: list[pd.DataFrame] = [calc_arrival_port_aggregated, calc_arrival_address_aggregated]\n",
    "total_traffic_df_list: list[pd.DataFrame] = [calc_total_port_traffic_aggregated, calc_total_address_traffic_aggregated]\n",
    "multi_arrival_rate_days(dfs=arrival_df_list, df_colors=['g', 'b'], df_descriptions=['Port Scan', 'Address Scan'], x_description='Tage', y_description='Anzahl Port-/Address-Scans', y_ticks=[0, 4, 8 , 12, 16, 20, 40, 80, 160, 320], linthresh=20, grade='symlog', saving_name='address2')\n",
    "multi_arrival_rate_days(dfs=total_traffic_df_list, df_colors=['g', 'b'], df_descriptions=['Port Scan', 'Address Scan'], x_description='Tage', y_description='Anzahl Anfragen Port-/Address-Scans', y_ticks=[0, 150, 300, 450, 600, 750, 900, 1800, 3600, 7200, 14400], linthresh=900, grade='symlog', saving_name='port2')\n",
    "\n",
    "# total scans::\n",
    "# 1. ssd networks limited 2025-01-24 19:58:00+00:00 - 2025-01-24 20:58:00+00:00 \n",
    "# 2. Mobile Communication Company of Iran PLC  Iran Telecommunication Company PJS  _ 2025-01-26 09:58:00+00:00 - 2025-01-26 15:58:00+00:00\n",
    "# 3. Information Technology Company (ITC) _ Saudi Telecom Company JSC _ Mobile Communication Company of Iran PLC 14% 2025-01-30 09:58:00+00:00 - 2025-01-30 13:58:00+00:00\n",
    "\n",
    "# traffic\n",
    "# 1 gcommer.com 2025-01-28 18:58:00+00:00 - 2025-01-26 15:58:00+00:00 \n",
    "# 2. Mobile Communication Company of Iran PLC  Iran Telecommunication Company PJS  2025-01-26 09:58:00+00:00 - 2025-01-26 15:58:00+00:00\n",
    "# 3. Perfecto Consultoria E Apoio Administrativo LTDA  2025-01-26 2025-01-26 09:58:00+00:00 - 2025-01-26 15:58:00+00:00\n",
    "# 4 address Perfecto Consultoria E Apoio Administrativo LTDA,  LLC 188.166.250.148 ssd networks limited 2025-01-24 19:58:00+00:00 - 2025-01-24 20:58:00+00:00\n",
    "# 5 port ssd networks limited 92% 19:58:00+00:00 - 2025-01-24 20:58:00+00:00\n",
    "# 6 address Information Technology Company (ITC) Aryan Satellite Co. (Private Joint Stock) Mobile Communication Company of Iran PLC  Saudi Telecom Company JSC 11 2025-01-26 09:58:00+00:00 - 2025-01-26 15:58:00+00:00\n",
    "# 7 Pfcloud UG 16 Optibounce, LLC 10 2025-01-26 09:58:00+00:00 - 2025-01-26 15:58:00+00:00\n"
   ],
   "metadata": {
    "collapsed": false
   },
   "id": "75e5f2e207c6a46e"
  },
  {
   "cell_type": "code",
   "execution_count": null,
   "outputs": [],
   "source": [
    "d1_start_1 = pd.to_datetime('2025-01-24 19:58:00+00:00')\n",
    "d1_end_1 = pd.to_datetime('2025-01-24 21:58:00+00:00')\n",
    "d1_start_2 = pd.to_datetime('2025-01-26 09:58:00+00:00')\n",
    "d1_end_2 = pd.to_datetime('2025-01-26 16:58:00+00:00')\n",
    "d1_start_3 = pd.to_datetime('2025-01-30 09:58:00+00:00')\n",
    "d1_end_3 = pd.to_datetime('2025-01-30 13:58:00+00:00')\n",
    "\n",
    "d1_address = address_scan\n",
    "d1_port = port_scan\n",
    "d1_address['ts'] = pd.to_datetime(d1_address['ts'], unit='s', utc=True)\n",
    "d1_port['ts'] = pd.to_datetime(d1_port['ts'], unit='s', utc=True)\n",
    "\n",
    "# d1_1_outlier\n",
    "d1_1_outlier = d1_address[d1_address['ts'] >= d1_start_1]\n",
    "d1_1_outlier = d1_1_outlier[d1_1_outlier['ts'] <= d1_end_1]\n",
    "d1_1_outlier_src: list[ColumnResults] = column_calculation(d1_1_outlier, {'src': -1}, False)[0].result_as_df\n",
    "\n",
    "# d1_2_outlier\n",
    "d1_2_outlier = d1_port[d1_port['ts'] >= d1_start_2]\n",
    "d1_2_outlier = d1_2_outlier[d1_2_outlier['ts'] <= d1_end_2]\n",
    "d1_2_outlier_conn = conn_udp[conn_udp['id.orig_h'].isin(d1_2_outlier['src'])]\n",
    "d1_2_outlier_conn_rir: list[ColumnResults] = column_calculation(d1_2_outlier_conn, {'orig_as_name_rir': -1}, False)[0].result_as_df\n",
    "\n",
    "# d1_3_outlier\n",
    "d1_3_outlier = d1_port[d1_port['ts'] >= d1_start_3]\n",
    "d1_3_outlier = d1_3_outlier[d1_3_outlier['ts'] <= d1_end_3]\n",
    "d1_3_outlier_conn = conn_udp[conn_udp['id.orig_h'].isin(d1_3_outlier['src'])]\n",
    "d1_3_outlier_conn_rir: list[ColumnResults] = column_calculation(d1_3_outlier_conn, {'orig_as_name_rir': -1}, False)[0].result_as_df"
   ],
   "metadata": {
    "collapsed": false
   },
   "id": "652212bb7efc52e1"
  },
  {
   "cell_type": "code",
   "execution_count": null,
   "outputs": [],
   "source": [
    "d2_start_1 = pd.to_datetime('2025-01-28 18:58:00+00:00')\n",
    "d2_end_1 = pd.to_datetime('2025-01-29 02:58:00+00:00')\n",
    "d2_start_2 = pd.to_datetime('2025-01-26 09:58:00+00:00')\n",
    "d2_end_2 = pd.to_datetime('2025-01-26 16:58:00+00:00')\n",
    "d2_start_3 = pd.to_datetime('2025-01-26 09:58:00+00:00')\n",
    "d2_end_3 = pd.to_datetime('2025-01-26 16:58:00+00:00')\n",
    "d2_start_4 = pd.to_datetime('2025-01-24 19:58:00+00:00')\n",
    "d2_end_4 = pd.to_datetime('2025-01-24 21:58:00+00:000')\n",
    "d2_start_5 = pd.to_datetime('2025-01-24 19:58:00+00:00')\n",
    "d2_end_5 = pd.to_datetime('2025-01-24 21:58:00+00:000')\n",
    "d2_start_6 = pd.to_datetime('2025-01-30 09:58:00+00:00')\n",
    "d2_end_6 = pd.to_datetime('2025-01-30 13:58:00+00:00')\n",
    "d2_start_7 = pd.to_datetime('2025-01-30 09:58:00+00:00')\n",
    "d2_end_7 = pd.to_datetime('2025-01-30 13:58:00+00:00')\n",
    "d2_start_8 = pd.to_datetime('2025-01-25 01:58:00+00:00')\n",
    "d2_end_8 = pd.to_datetime('2025-01-25 08:58:00+00:00')\n",
    "\n",
    "d2_address = calc_total_address_traffic_raw\n",
    "d2_port = calc_total_port_traffic_raw\n",
    "d2_address['ts'] = pd.to_datetime(d2_address['ts'], unit='s', utc=True)\n",
    "d2_port['ts'] = pd.to_datetime(d2_port['ts'], unit='s', utc=True)\n",
    "\n",
    "# d2_1_outlier\n",
    "d2_1_outlier = d2_port[d2_port['ts'] >= d2_start_1]\n",
    "d2_1_outlier = d2_1_outlier[d2_1_outlier['ts'] <= d2_end_1]\n",
    "d2_1_outlier_src: list[ColumnResults] = column_calculation(d2_1_outlier, {'id.orig_h': -1}, False)[0].result_as_df\n",
    "\n",
    "# d2_2_outlier\n",
    "d2_2_outlier = d2_port[d2_port['ts'] >= d2_start_2]\n",
    "d2_2_outlier = d2_2_outlier[d2_2_outlier['ts'] <= d2_end_2]\n",
    "d2_2_outlier_conn = conn_udp[conn_udp['id.orig_h'].isin(d2_2_outlier['id.orig_h'])]\n",
    "d2_2_outlier_conn_rir: list[ColumnResults] = column_calculation(d2_2_outlier_conn, {'orig_as_name_rir': -1}, False)[0].result_as_df\n",
    "\n",
    "# d2_3_outlier\n",
    "d2_3_outlier = d2_address[d2_address['ts'] >= d2_start_3]\n",
    "d2_3_outlier = d2_3_outlier[d2_3_outlier['ts'] <= d2_end_3]\n",
    "d2_3_outlier_conn = conn_udp[conn_udp['id.orig_h'].isin(d2_3_outlier['id.orig_h'])]\n",
    "d2_3_outlier_conn_rir: list[ColumnResults] = column_calculation(d2_3_outlier_conn, {'orig_as_name_rir': -1}, False)[0].result_as_df\n",
    "\n",
    "# d2_4_outlier\n",
    "d2_4_outlier = d2_address[d2_address['ts'] >= d2_start_4]\n",
    "d2_4_outlier = d2_4_outlier[d2_4_outlier['ts'] <= d2_end_4]\n",
    "d2_4_outlier_conn = conn_udp[conn_udp['id.orig_h'].isin(d2_4_outlier['id.orig_h'])]\n",
    "d2_4_outlier_conn_rir: list[ColumnResults] = column_calculation(d2_4_outlier_conn, {'orig_as_name_rir': -1}, False)[0].result_as_df\n",
    "\n",
    "# d2_4_outlier\n",
    "d2_5_outlier = d2_port[d2_port['ts'] >= d2_start_5]\n",
    "d2_5_outlier = d2_5_outlier[d2_5_outlier['ts'] <= d2_end_5]\n",
    "d2_5_outlier_conn = conn_udp[conn_udp['id.orig_h'].isin(d2_5_outlier['id.orig_h'])]\n",
    "d2_5_outlier_conn_rir: list[ColumnResults] = column_calculation(d2_5_outlier_conn, {'orig_as_name_rir': -1}, False)[0].result_as_df\n",
    "\n",
    "# d2_4_outlier\n",
    "d2_6_outlier = d2_port[d2_port['ts'] >= d2_start_6]\n",
    "d2_6_outlier = d2_6_outlier[d2_6_outlier['ts'] <= d2_end_6]\n",
    "d2_6_outlier_conn = conn_udp[conn_udp['id.orig_h'].isin(d2_6_outlier['id.orig_h'])]\n",
    "d2_6_outlier_conn_rir: list[ColumnResults] = column_calculation(d2_6_outlier_conn, {'orig_as_name_rir': -1}, False)[0].result_as_df\n",
    "\n",
    "# d2_4_outlier\n",
    "d2_7_outlier = d2_address[d2_address['ts'] >= d2_start_7]\n",
    "d2_7_outlier = d2_7_outlier[d2_7_outlier['ts'] <= d2_end_7]\n",
    "d2_7_outlier_conn = conn_udp[conn_udp['id.orig_h'].isin(d2_7_outlier['id.orig_h'])]\n",
    "d2_7_outlier_conn_rir: list[ColumnResults] = column_calculation(d2_7_outlier_conn, {'orig_as_name_rir': -1}, False)[0].result_as_df\n",
    "\n",
    "d2_8_outlier = d2_address[d2_address['ts'] >= d2_start_8]\n",
    "d2_8_outlier = d2_8_outlier[d2_8_outlier['ts'] <= d2_end_8]\n",
    "d2_8_outlier_conn = conn_udp[conn_udp['id.orig_h'].isin(d2_8_outlier['id.orig_h'])]\n",
    "d2_8_outlier_conn_rir: list[ColumnResults] = column_calculation(d2_8_outlier_conn, {'orig_as_name_rir': -1}, False)[0].result_as_df"
   ],
   "metadata": {
    "collapsed": false
   },
   "id": "14464ac2ed4842f8"
  },
  {
   "cell_type": "markdown",
   "source": [
    "### show PIR for top 20 scanner"
   ],
   "metadata": {
    "collapsed": false
   },
   "id": "826bb6f0c28ecaba"
  },
  {
   "cell_type": "code",
   "execution_count": null,
   "outputs": [],
   "source": [
    "\n",
    "try:\n",
    "    import dns\n",
    "except ModuleNotFoundError:\n",
    "    import sys\n",
    "    !{sys.executable} -m pip install dnspython\n",
    "    import dns\n",
    "try:\n",
    "    import brokenaxes\n",
    "except ModuleNotFoundError:\n",
    "    import sys\n",
    "    import subprocess\n",
    "    subprocess.check_call([sys.executable, \"-m\", \"pip\", \"install\", \"brokenaxes\"])\n",
    "    import brokenaxes\n",
    "from src.d04_analysation.count_percent import *\n",
    "from src.d04_analysation.reverse_dns_lookup import *\n",
    "from src.d04_analysation.find_scanner import *\n",
    "from src.d03_visiualisation.bar_diagram import *\n",
    "\n",
    "def calc_and_show_top_scanner():\n",
    "    top_df_response: FindScannerReturn = calc_top_scanner(port_scan=port_scan, address_scan=address_scan, conn_udp=conn_udp)\n",
    "    \n",
    "\n",
    "\n",
    "    address_custom_ticks_ax4 = [0, 2, 4 , 6, 8, 10, 20, 40, 80, 160, 320]\n",
    "    address_custom_ticks_ax2 = [0, 2000, 4000 , 6000, 8000, 10000, 20000, 40000, 80000]\n",
    "    address_custom_ticks_ax3 = [0, 300, 10, 15, 20, 25, 30, 40, 45]\n",
    "\n",
    "    mask = top_df_response.address_scanner['orig_as_name_rir'] == 'Perfecto Consultoria E Apoio Administrativo LTDA'\n",
    "\n",
    "    top_df_response.address_scanner.loc[mask, 'orig_as_name_rir'] = 'Perfecto Consultoria E Apoio \\n Administrativo LTDA'\n",
    "    address_multi_new_3_color_bar_diagram(df=top_df_response.address_scanner, x_column='orig_as_name_rir', y_columns=['total_scanner', 'total_connections', 'mean_duration', 'unique_ports_host'], x_label='Source IP', y_label='Anzahl', y_descriptions=['Anzahl Scans', 'Anzahl Anfragen', 'Scan Dauer', \"Anzahl unterschiedlicher Ziel-Ports\"], bar_width=0.2, rotation=20, address_custom_ticks_ax2=address_custom_ticks_ax2,address_custom_ticks_ax4=address_custom_ticks_ax4).show()\n",
    "\n",
    "    port_custom_ticks_ax3 = [0, 0.1, 0.2 ,0.3, 0.4, 0.5, 1, 2, 4, 8, 15, 30, 60, 120, 240, 480, 960, 1920]\n",
    "    port_custom_ticks_ax2 = [0, 200, 400, 600 , 800, 1000, 2000, 4000, 8000, 16000]\n",
    "    custom_ticks_ax4 = [0, 5, 10, 15, 20, 25, 30, 35,40, 45, 50, 100, 200]\n",
    "    port_multi_new_color_bar_diagram(df=top_df_response.port_scanner, x_column='orig_as_name_rir', y_columns=['total_scanner', 'total_connections', 'mean_duration', 'unique_ports_host'], x_label='Source IP', y_label='Anzahl', y_descriptions=['Anzahl Scans', 'Anzahl Anfragen', 'Scan Dauer', \"Anzahl unterschiedlicher Ziel-IPs\"], bar_width=0.2, rotation=20, custom_ticks_ax3=port_custom_ticks_ax3, custom_ticks_ax2=port_custom_ticks_ax2, custom_ticks_ax4=custom_ticks_ax4).show()\n",
    "    #\n",
    "    return top_df_response.port_scanner\n",
    "\n",
    "\n",
    "\n",
    "calc_address_ = calc_and_show_top_scanner()"
   ],
   "metadata": {
    "collapsed": false
   },
   "id": "25eb8f02c2a4d40a"
  },
  {
   "cell_type": "markdown",
   "source": [
    "### show scanner type"
   ],
   "metadata": {
    "collapsed": false
   },
   "id": "942badfeb26eab88"
  },
  {
   "cell_type": "code",
   "execution_count": null,
   "outputs": [],
   "source": [
    "from src.d03_visiualisation.bar_diagram import *\n",
    "from src.d04_analysation.count_percent import *\n",
    "\n",
    "def show_attacked_ports():\n",
    "    \n",
    "    attack_ports_calculation: pd.DataFrame = column_calculation(backscatter_traffic_unique_attack, {'id.resp_p': -1}, False)[0].result_as_df\n",
    "    attack_ports_calculation = attack_ports_calculation.drop(index=attack_ports_calculation.index[0])\n",
    "    basic_bar_new_2_diagram(df=attack_ports_calculation, x_column='id.resp_p', y_column='total', x_label='Port', y_label='Anzahl Angriffe', rotation=40, saving_name='ddos_ports', width=1, bar_spacing=0.2, diagramm_width=5, diagramm_height=5).show()\n",
    "    \n",
    "    return attack_ports_calculation\n",
    "    \n",
    "show_attacked_ports()\n"
   ],
   "metadata": {
    "collapsed": false
   },
   "id": "f38700d5d3e721a3"
  },
  {
   "cell_type": "markdown",
   "source": [
    "### show education table"
   ],
   "metadata": {
    "collapsed": false
   },
   "id": "54b71ac00e7bdac9"
  },
  {
   "cell_type": "code",
   "execution_count": null,
   "outputs": [],
   "source": [
    "from src.d04_analysation.scan_education import *\n",
    "from src.d03_visiualisation.tabel_visiualisation import *\n",
    "def show_education_table():\n",
    "    education_df: pd.DataFrame = calc_scan_education(conn_udp)\n",
    "    \n",
    "    show_as_basic_table(education_df).show()\n",
    "    return education_df\n",
    "    \n",
    "    \n",
    "show_education_table()"
   ],
   "metadata": {
    "collapsed": false
   },
   "id": "3a4b8937cb7c99ec"
  },
  {
   "cell_type": "code",
   "execution_count": null,
   "outputs": [],
   "source": [
    "from src.d04_analysation.scan_education import *\n",
    "from src.d03_visiualisation.tabel_visiualisation import *\n",
    "def show_education_table():\n",
    "    education_df: pd.DataFrame = calc_scan_education(conn_udp)\n",
    "    education_df.rename(columns={\"DNS Eintrag\": \"Dns_Eintrag\"}, inplace=True)\n",
    "    education_df.rename(columns={\"RIR Name\": \"RIR_Name\"}, inplace=True)\n",
    "    education_df.rename(columns={\"Anzahl IP\\'s\": \"Anzahl_IPs\"}, inplace=True)\n",
    "    education_df.rename(columns={\"Universität\": \"Forschungseinrichtung\"}, inplace=True)\n",
    "    education_df['Dns_Eintrag'] = education_df['Dns_Eintrag'].fillna(\"\")\n",
    "    education_df['RIR_Name'] = education_df['RIR_Name'].fillna(\"\")\n",
    "    education_df[\"Anzahl_IPs\"] = education_df['Anzahl_IPs'].fillna(\"\")\n",
    "    \n",
    "    \n",
    "    \n",
    "\n",
    "    column_widths = {\n",
    "        \"Forschungseinrichtung\": 0.67,\n",
    "        \"Land\": 0.15,\n",
    "        \"Dns_Eintrag\": 0.8,\n",
    "        \"Ports\": 0.3,\n",
    "        \"RIR_Name\": 0.7\n",
    "    }\n",
    "\n",
    "    col_left_offsets = {\n",
    "        \"Forschungseinrichtung\": 0.00001,\n",
    "        \"Land\": 0.03,\n",
    "        \"Dns_Eintrag\": 0.03,\n",
    "        \"Ports\": 0.93,\n",
    "        \"RIR_Name\": 0.07\n",
    "    }\n",
    "\n",
    "    row_heights = [0.5] + [0.3, 0.4, 0.6, 0.5, 0.7, 0.4, 0.6, 0.3]  #\n",
    "    row_heights = [0.08, 0.16, 0.1, 0.1, 0.16, 0.24, 0.1, 0.1, 0.24, 0.1, 0.1, 0.1, 0.1, 0.1, 0.1] \n",
    "    \n",
    "    show_as_basic2_table(education_df, column_widths, row_heights, col_left_offsets)\n",
    "    plt.show()\n",
    "    return education_df\n",
    "    \n",
    "    \n",
    "show_education_table()"
   ],
   "metadata": {
    "collapsed": false
   },
   "id": "5087252bfd84feb"
  },
  {
   "cell_type": "markdown",
   "source": [
    "### test Data for find_scanner "
   ],
   "metadata": {
    "collapsed": false
   },
   "id": "f61168ded83b7f7a"
  },
  {
   "cell_type": "code",
   "execution_count": null,
   "outputs": [],
   "source": [
    "import datetime\n",
    "from src.d04_analysation.find_scanner import *\n",
    "scanner_test_df: pd.DataFrame = pd.DataFrame({\n",
    "    'ts': pd.Series(dtype='float'),\n",
    "    'id.orig_h': pd.Series(dtype='str'),\n",
    "    'id.orig_p': pd.Series(dtype='str'),\n",
    "    'id.resp_h': pd.Series(dtype='str'),\n",
    "    'id.resp_p': pd.Series(dtype='str'),\n",
    "})\n",
    "\n",
    "for i in range(10, 38):\n",
    "    new_row: pd.DataFrame = pd.DataFrame({\n",
    "        'ts': [datetime.datetime.fromisoformat(f\"2024-06-01T12:00:{i}\").timestamp()],\n",
    "        'id.orig_h': [f'5.252.176.74'],\n",
    "        'id.orig_p': ['53'],\n",
    "        'id.resp_h': [f'170.64.134.{i}'],\n",
    "        'id.resp_p': ['98'],\n",
    "    })\n",
    "    scanner_test_df = pd.concat([scanner_test_df, new_row], ignore_index=True)\n",
    "\n",
    "new_row_2: pd.DataFrame = pd.DataFrame({\n",
    "        'ts': [datetime.datetime.fromisoformat(f\"2024-06-01T12:02:45\").timestamp()],\n",
    "        'id.orig_h': [f'5.252.176.74'],\n",
    "        'id.orig_p': ['53'],\n",
    "        'id.resp_h': [f'170.64.134.99'],\n",
    "        'id.resp_p': ['98'],\n",
    "    })\n",
    "scanner_test_df = pd.concat([scanner_test_df, new_row_2], ignore_index=True)\n",
    "\n",
    "# for i in range(10, 38):\n",
    "#     new_row: pd.DataFrame = pd.DataFrame({\n",
    "#         'ts': [datetime.datetime.fromisoformat(f\"2024-06-01T12:07:{i}\").timestamp()],\n",
    "#         'id.orig_h': [f'5.252.176.74'],\n",
    "#         'id.orig_p': ['53'],\n",
    "#         'id.resp_h': [f'170.64.134.{i}'],\n",
    "#         'id.resp_p': ['11'],\n",
    "#     })\n",
    "#     scanner_test_df = pd.concat([scanner_test_df, new_row], ignore_index=True)\n",
    "#\n",
    "# scanner_test_df = pd.concat([scanner_test_df, new_row_2], ignore_index=True)\n",
    "\n",
    "\n",
    "for i in range(10, 38):\n",
    "    new_row: pd.DataFrame = pd.DataFrame({\n",
    "        'ts': [datetime.datetime.fromisoformat(f\"2024-06-01T12:00:{i}\").timestamp()],\n",
    "        'id.orig_h': [f'5.252.176.74'],\n",
    "        'id.orig_p': ['53'],\n",
    "        'id.resp_h': [f'170.64.134.10'],\n",
    "        'id.resp_p': [f'{i}'],\n",
    "    })\n",
    "    scanner_test_df = pd.concat([scanner_test_df, new_row], ignore_index=True)\n",
    "\n",
    "new_row_2: pd.DataFrame = pd.DataFrame({\n",
    "        'ts': [datetime.datetime.fromisoformat(f\"2024-06-01T12:01:38\").timestamp()],\n",
    "        'id.orig_h': [f'5.252.176.74'],\n",
    "        'id.orig_p': ['53'],\n",
    "        'id.resp_h': [f'170.64.134.10'],\n",
    "        'id.resp_p': ['98'],\n",
    "    })\n",
    "scanner_test_df = pd.concat([scanner_test_df, new_row_2], ignore_index=True)\n",
    "\n",
    "\n",
    "test_address_unique: pd.DataFrame = pd.DataFrame({\n",
    "    'src': [f'5.252.176.74'],\n",
    "})\n",
    "test_port_unique: pd.DataFrame = pd.DataFrame({\n",
    "    'src': [f'5.252.176.74'],\n",
    "})\n",
    "find_scanner_return: FindScannerReturn = find_scanning(unique_port_scanner=test_port_unique, unique_address_scanner=test_address_unique, conn_udp=scanner_test_df, threshold=29, interval=3)\n",
    "\n",
    "\n",
    "display(find_scanner_return.address_scanner)\n",
    "find_scanner_return.port_scanner\n",
    "#scanner_test_df\n",
    "\n"
   ],
   "metadata": {
    "collapsed": false
   },
   "id": "28924b22ddf5c3ff"
  }
 ],
 "metadata": {
  "kernelspec": {
   "display_name": "Python 3",
   "language": "python",
   "name": "python3"
  },
  "language_info": {
   "codemirror_mode": {
    "name": "ipython",
    "version": 2
   },
   "file_extension": ".py",
   "mimetype": "text/x-python",
   "name": "python",
   "nbconvert_exporter": "python",
   "pygments_lexer": "ipython2",
   "version": "2.7.6"
  }
 },
 "nbformat": 4,
 "nbformat_minor": 5
}
