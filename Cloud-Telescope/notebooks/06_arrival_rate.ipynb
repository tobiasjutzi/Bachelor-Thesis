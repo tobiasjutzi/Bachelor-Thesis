{
 "cells": [
  {
   "cell_type": "code",
   "execution_count": null,
   "id": "initial_id",
   "metadata": {
    "collapsed": true
   },
   "outputs": [],
   "source": [
    "from pathlib import Path\n",
    "import os\n",
    "if not str(Path.cwd()).endswith('/Cloud-Telescope'):\n",
    "    os.chdir(Path.cwd().parent)\n",
    "    print(f'New working dir is {Path.cwd()}')    \n",
    "    \n",
    "import importlib\n",
    "import pandas as pd\n",
    "\n",
    "import src.d01_data.read_files\n",
    "importlib.reload(src.d01_data.read_files)\n",
    "import src.d01_data.save_files\n",
    "importlib.reload(src.d01_data.save_files)\n",
    "import src.d01_data.log_names_enum\n",
    "importlib.reload(src.d01_data.log_names_enum)\n",
    "\n",
    "import src.d03_visiualisation.tabel_visiualisation\n",
    "importlib.reload(src.d03_visiualisation.tabel_visiualisation)\n",
    "\n",
    "import src.d03_visiualisation.graf_arrival_rate\n",
    "importlib.reload(src.d03_visiualisation.graf_arrival_rate)\n",
    "\n",
    "import src.d04_analysation.count_percent\n",
    "importlib.reload(src.d04_analysation.count_percent)\n",
    "import src.d04_analysation.arrival_rate\n",
    "importlib.reload(src.d04_analysation.arrival_rate)\n",
    "\n",
    "import src.d02_intermediate.filter_telescope_ips\n",
    "importlib.reload(src.d02_intermediate.filter_telescope_ips)\n",
    "\n",
    "import src.config\n",
    "importlib.reload(src.config)\n",
    "print()\n"
   ]
  },
  {
   "cell_type": "markdown",
   "source": [
    "### show mean arrival rate per minute for udp traffic"
   ],
   "metadata": {
    "collapsed": false
   },
   "id": "d9e5894796734d29"
  },
  {
   "cell_type": "code",
   "execution_count": null,
   "outputs": [],
   "source": [
    "from src.d01_data.read_files import load_latest_dataframe\n",
    "from src.d01_data.log_names_enum import LogNamesEnum\n",
    "from src.d02_intermediate.filter_telescope_ips import filter_normal_traffic\n",
    "from src.d04_analysation.arrival_rate import *\n",
    "from src.d04_analysation.date_time_enum import DateTimeEnum\n",
    "from src.config import *\n",
    "from datetime import datetime\n",
    "\n",
    "# traffic at specific timestamp:\n",
    "# conn[conn['Date (Berlin)'].astype(str).str.startswith('2024-03-20 14:39')]\n",
    "\n",
    "def show_arrival_rate(df_name: LogNamesEnum, start_point: datetime, end_point: datetime, time_dimension: DateTimeEnum):\n",
    "    conn: pd.DataFrame = load_latest_dataframe(df_name)\n",
    "    conn_udp_normal = conn[conn['proto'] == 'udp']\n",
    "    #conn_udp_normal: pd. DataFrame = filter_normal_traffic(df_name, conn)\n",
    "    conn_udp_normal = conn_udp_normal.sort_values(by='ts', ascending=True, inplace=False)\n",
    "\n",
    "    arrival_rate: ArrivalRateReturn = get_arrival_rate(conn_udp_normal, start_point, end_point, time_dimension)\n",
    "    print(f'From {start_point} (Berlin) to {end_point} (Berlin) the telescope captured: {arrival_rate.mean_arrival_rate} connections per {time_dimension.value}')\n",
    "    return arrival_rate.arrival_rate_df\n",
    "\n",
    "start: datetime = start_point\n",
    "end: datetime = end_point\n",
    "\n",
    "#arrival_rate_dataframe: pd.DataFrame = show_arrival_rate(LogNamesEnum.conn, start, end, DateTimeEnum.minute)\n",
    "specific_start = datetime(2025, 1, 20, 16, 00, tzinfo=timezone.utc)\n",
    "specific_end = datetime(2025, 2, 3, 1, 33, tzinfo=timezone.utc)\n",
    "\n",
    "arrival_rate_dataframe: pd.DataFrame = show_arrival_rate(LogNamesEnum.conn, specific_start, specific_end, DateTimeEnum.minute)\n",
    "arrival_rate_dataframe\n"
   ],
   "metadata": {
    "collapsed": false
   },
   "id": "d1b066bc386bc515"
  }
 ],
 "metadata": {
  "kernelspec": {
   "display_name": "Python 3",
   "language": "python",
   "name": "python3"
  },
  "language_info": {
   "codemirror_mode": {
    "name": "ipython",
    "version": 2
   },
   "file_extension": ".py",
   "mimetype": "text/x-python",
   "name": "python",
   "nbconvert_exporter": "python",
   "pygments_lexer": "ipython2",
   "version": "2.7.6"
  }
 },
 "nbformat": 4,
 "nbformat_minor": 5
}
