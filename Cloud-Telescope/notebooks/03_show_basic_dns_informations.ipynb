{
 "cells": [
  {
   "cell_type": "code",
   "execution_count": null,
   "id": "initial_id",
   "metadata": {
    "collapsed": true
   },
   "outputs": [],
   "source": [
    "from pathlib import Path\n",
    "import os\n",
    "if not str(Path.cwd()).endswith('/Cloud-Telescope'):\n",
    "    os.chdir(Path.cwd().parent)\n",
    "    print(f'New working dir is {Path.cwd()}')    \n",
    "import importlib\n",
    "import pandas as pd\n",
    "\n",
    "import src.d01_data.read_files  \n",
    "importlib.reload(src.d01_data.read_files)\n",
    "import src.d01_data.save_files\n",
    "importlib.reload(src.d01_data.save_files)\n",
    "import src.d01_data.log_names_enum\n",
    "importlib.reload(src.d01_data.log_names_enum)\n",
    "\n",
    "import src.d03_visiualisation.tabel_visiualisation\n",
    "importlib.reload(src.d03_visiualisation.tabel_visiualisation)\n",
    "\n",
    "import src.d04_analysation.count_percent\n",
    "importlib.reload(src.d04_analysation.count_percent)\n",
    "\n",
    "import src.d02_intermediate.filter_telescope_ips\n",
    "importlib.reload(src.d02_intermediate.filter_telescope_ips)"
   ]
  },
  {
   "cell_type": "code",
   "execution_count": null,
   "outputs": [],
   "source": [
    "### Show conn as table"
   ],
   "metadata": {
    "collapsed": false
   },
   "id": "3ba591d8df97f950"
  },
  {
   "cell_type": "code",
   "execution_count": null,
   "outputs": [],
   "source": [
    "from src.d01_data.read_files import load_latest_dataframe\n",
    "from src.d01_data.log_names_enum import LogNamesEnum\n",
    "\n",
    "dns: pd.DataFrame = load_latest_dataframe(LogNamesEnum.dns)\n",
    "dns"
   ],
   "metadata": {
    "collapsed": false
   },
   "id": "cb883580c50df622"
  },
  {
   "cell_type": "markdown",
   "source": [
    "### Print basic information about dns file"
   ],
   "metadata": {
    "collapsed": false
   },
   "id": "86a0ae06dc2fa1a0"
  },
  {
   "cell_type": "code",
   "execution_count": null,
   "outputs": [],
   "source": [
    "from src.d04_analysation.count_percent import *\n",
    "from src.d02_intermediate.filter_telescope_ips import filter_normal_traffic \n",
    "\n",
    "columns_for_inspecting_01: dict[str, int] = {\n",
    "    'id.orig_h': -1,\n",
    "    'id.orig_p': -1,\n",
    "    'id.resp_h': -1,\n",
    "    'id.resp_p': -1,\n",
    "    'query': 30,\n",
    "    'qtype_name': 30,\n",
    "    'answers': 30,\n",
    "}\n",
    "\n",
    "dns_normal_traffic: pd.DataFrame = filter_normal_traffic(LogNamesEnum.dns, dns)\n",
    "\n",
    "def calculate_and_print_column_stats(columns_for_inspecting: dict[str, int]) -> list[ColumnResults]:\n",
    "    column_results_list: list[ColumnResults] = column_calculation(dns_normal_traffic, columns_for_inspecting, False)\n",
    "    for column_result in column_results_list:\n",
    "        display(column_result.result_as_df)\n",
    "    return column_results_list\n",
    "\n",
    "column_result_list: list[ColumnResults] = calculate_and_print_column_stats(columns_for_inspecting_01)"
   ],
   "metadata": {
    "collapsed": false
   },
   "id": "fde1d0f4f25aa4bb"
  },
  {
   "cell_type": "code",
   "execution_count": null,
   "outputs": [],
   "source": [
    "dns_normal_traffic[dns_normal_traffic['qtype_name'].isna()] # is a response"
   ],
   "metadata": {
    "collapsed": false
   },
   "id": "3bae30c0c4a1079e"
  },
  {
   "cell_type": "code",
   "execution_count": null,
   "outputs": [],
   "source": [
    "dns_normal_traffic[dns_normal_traffic['answers'] != '-']\n",
    "dns_normal_traffic"
   ],
   "metadata": {
    "collapsed": false
   },
   "id": "fcd2b521d55bf9ea"
  }
 ],
 "metadata": {
  "kernelspec": {
   "display_name": "Python 3",
   "language": "python",
   "name": "python3"
  },
  "language_info": {
   "codemirror_mode": {
    "name": "ipython",
    "version": 2
   },
   "file_extension": ".py",
   "mimetype": "text/x-python",
   "name": "python",
   "nbconvert_exporter": "python",
   "pygments_lexer": "ipython2",
   "version": "2.7.6"
  }
 },
 "nbformat": 4,
 "nbformat_minor": 5
}
