{
 "cells": [
  {
   "cell_type": "code",
   "execution_count": null,
   "id": "initial_id",
   "metadata": {
    "collapsed": true
   },
   "outputs": [],
   "source": [
    "from pathlib import Path\n",
    "import os\n",
    "import importlib\n",
    "\n",
    "import pandas as pd\n",
    "\n",
    "if not str(Path.cwd()).endswith('/Cloud-Telescope'):\n",
    "    os.chdir(Path.cwd().parent)\n",
    "    print(f'New working dir is {Path.cwd()}')    \n",
    "\n",
    "import src.config\n",
    "importlib.reload(src.config)\n",
    "\n",
    "import src.d01_data.read_files\n",
    "importlib.reload(src.d01_data.read_files)\n",
    "\n",
    "import src.d01_data.log_names_enum\n",
    "importlib.reload(src.d01_data.log_names_enum)\n",
    "\n",
    "from src.config import *\n",
    "from src.d01_data.read_files import *\n",
    "\n",
    "\n",
    "print(path_root)\n",
    "print(path_server_data)\n"
   ]
  },
  {
   "cell_type": "markdown",
   "source": [
    "Test join and merge"
   ],
   "metadata": {
    "collapsed": false
   },
   "id": "4a0e5ef047938e26"
  },
  {
   "cell_type": "code",
   "execution_count": null,
   "outputs": [],
   "source": [
    "data_a = {'Test2': [1, 2, 3, 4], 'WerteB': ['b', 'bb', 'bbb', 'bbbb']}\n",
    "df_a = pd.DataFrame(data_a)\n",
    "\n",
    "data_b = {'Test1': [1, 2, 5, 6], 'WerteA': ['a', 'aa', 'aaaa', 'aaaaa']}\n",
    "df_b = pd.DataFrame(data_b, columns=['Test1', 'WerteA'])\n",
    "\n",
    "data_c = {'Test12': [1, 2, 3, 4], 'WerteB': ['c', 'cc', 'cccc', 'ccccc']}\n",
    "df_c = pd.DataFrame(data_c, columns=['Test12', 'WerteB'])\n",
    "\n",
    "# merge if compare columns \n",
    "merge_left: pd.DataFrame = df_a.merge(df_b, how='left', left_on='Test2', right_on='Test1')\n",
    "merge_right: pd.DataFrame = df_a.merge(df_b, how='right', left_on='Test2', right_on='Test1')\n",
    "merge_inner: pd.DataFrame = df_a.merge(df_b, how='inner', left_on='Test2', right_on='Test1')\n",
    "merge_outer: pd.DataFrame = df_a.merge(df_b, how='outer', left_on='Test2', right_on='Test1')\n",
    "\n",
    "# zwei Tabellen zusammenfügen und die fehlenden Werte durch NaN oder einen entsprechenden Wert ersetzten, spalten müssen unterschiedlich heißen, sonst suffixe angeben\n",
    "join_left: pd.DataFrame = df_b.join(df_c, on='Test1')\n",
    "join_right: pd.DataFrame = df_b.join(df_c, how='right', on='Test1')\n",
    "join_inner: pd.DataFrame = df_b.join(df_c, how='inner', on='Test1')\n",
    "join_outer: pd.DataFrame = df_b.join(df_c, how='outer', on='Test1')\n",
    "\n",
    "print('merge_left')\n",
    "display(merge_left)\n",
    "print('merge_right')\n",
    "display(merge_right)\n",
    "print('merge_inner')\n",
    "display(merge_inner)\n",
    "print('merge_outer')\n",
    "display(merge_outer)\n",
    "\n",
    "print('join_left')\n",
    "display(join_left)\n",
    "print('join_right')\n",
    "display(join_right)\n",
    "print('join_inner')\n",
    "display(join_inner)\n",
    "print('join_outer')\n",
    "display(join_outer)\n",
    "\n",
    "data_bb = {'src': [1, 2, 3, 4, 5, 6], 'WerteA': ['de', 'usa', 'ch', 'in', 'po', 'bu']}\n",
    "df_bb = pd.DataFrame(data_bb, columns=['src', 'WerteA'])\n",
    "\n",
    "data_cc = {'orig': [1, 5, 5, 1]}\n",
    "df_cc = pd.DataFrame(data_cc, columns=['orig', 'WerteB'])\n",
    "\n",
    "df_fin = df_cc.merge(df_bb, how='left', left_on='orig', right_on='src')\n",
    "print('fin')\n",
    "display(df_fin)\n"
   ],
   "metadata": {
    "collapsed": false
   },
   "id": "6199f5c5b5c09308"
  },
  {
   "cell_type": "code",
   "execution_count": null,
   "outputs": [],
   "source": [
    "# from src.d01_data.read_files import load_specific_dataframe\n",
    "# from src.d01_data.log_names_enum import LogNamesEnum\n",
    "# import pandas as pd\n",
    "# from src.d02_intermediate.add_colums_to_conn import add_column_data\n",
    "# \n",
    "# conn: pd.DataFrame = load_specific_dataframe(LogNamesEnum.conn, 'conn_1__init.feather')\n",
    "# conn = add_column_data(conn)\n",
    "# conn.iloc[0,0]"
   ],
   "metadata": {
    "collapsed": false
   },
   "id": "cb6a16b12f0da5d4"
  },
  {
   "cell_type": "code",
   "execution_count": null,
   "outputs": [],
   "source": [
    "#conn"
   ],
   "metadata": {
    "collapsed": false
   },
   "id": "da3af4d1f48df67b"
  },
  {
   "cell_type": "code",
   "execution_count": null,
   "outputs": [],
   "source": [
    "#import pandas as pd\n",
    "### neu\n",
    "#from src.d00_utils.playground import test_importimport os\n",
    "from pathlib import Path\n",
    "import os\n",
    "\n",
    "print(Path.cwd())\n",
    "if not str(Path.cwd()).endswith('/Cloud-Telescope'):\n",
    "    os.chdir(Path.cwd().parent)\n",
    "    print(f'New working dir is {Path.cwd()}')    \n",
    "    \n",
    "print(Path.cwd())\n",
    "from src.config import *\n",
    "from src.d01_data.read_files import load_latest_dataframe\n",
    "from src.d01_data.log_names_enum import LogNamesEnum\n",
    "import pandas as pd\n",
    "conn: pd.DataFrame = load_latest_dataframe(LogNamesEnum.conn)\n",
    "print(path_root)\n",
    "conn\n",
    "\n",
    "#print(current_working_directory)"
   ],
   "metadata": {
    "collapsed": false
   },
   "id": "6b53b741d01b88ca"
  },
  {
   "cell_type": "code",
   "execution_count": null,
   "outputs": [],
   "source": [
    "from src.config import *\n",
    "conn: pd.DataFrame = load_latest_dataframe(LogNamesEnum.conn)\n",
    "orig_ip: pd.DataFrame = conn['id.orig_h']\n",
    "orig_ip.to_csv(f'{path_root}/Cloud-Telescope/data/raw/merge_pcap_test/ips.txt', index=False, header=False)"
   ],
   "metadata": {
    "collapsed": false
   },
   "id": "c2d242641b15ef32"
  },
  {
   "cell_type": "code",
   "execution_count": null,
   "outputs": [],
   "source": [
    "from src.d01_data.read_files import *\n",
    "\n",
    "\n",
    "convert_json_to_csv('ipinfo/ipinfo/database')\n"
   ],
   "metadata": {
    "collapsed": false
   },
   "id": "8c49ce75fe51d725"
  }
 ],
 "metadata": {
  "kernelspec": {
   "display_name": "Python 3",
   "language": "python",
   "name": "python3"
  },
  "language_info": {
   "codemirror_mode": {
    "name": "ipython",
    "version": 2
   },
   "file_extension": ".py",
   "mimetype": "text/x-python",
   "name": "python",
   "nbconvert_exporter": "python",
   "pygments_lexer": "ipython2",
   "version": "2.7.6"
  }
 },
 "nbformat": 4,
 "nbformat_minor": 5
}
