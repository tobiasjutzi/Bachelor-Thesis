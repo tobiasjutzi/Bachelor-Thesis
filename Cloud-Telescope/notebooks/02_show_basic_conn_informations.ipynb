{
 "cells": [
  {
   "cell_type": "code",
   "execution_count": null,
   "id": "initial_id",
   "metadata": {
    "collapsed": true
   },
   "outputs": [],
   "source": [
    "from pathlib import Path\n",
    "import os\n",
    "if not str(Path.cwd()).endswith('/Cloud-Telescope'):\n",
    "    os.chdir(Path.cwd().parent)\n",
    "    print(f'New working dir is {Path.cwd()}')    \n",
    "\n",
    "import importlib\n",
    "import pandas as pd\n",
    "\n",
    "import src.d01_data.read_files\n",
    "importlib.reload(src.d01_data.read_files)\n",
    "import src.d01_data.save_files\n",
    "importlib.reload(src.d01_data.save_files)\n",
    "import src.d01_data.log_names_enum\n",
    "importlib.reload(src.d01_data.log_names_enum)\n",
    "\n",
    "import src.d03_visiualisation.tabel_visiualisation\n",
    "importlib.reload(src.d03_visiualisation.tabel_visiualisation)\n",
    "\n",
    "import src.d04_analysation.count_percent\n",
    "importlib.reload(src.d04_analysation.count_percent)\n",
    "\n",
    "import src.d02_intermediate.filter_telescope_ips\n",
    "importlib.reload(src.d02_intermediate.filter_telescope_ips)\n",
    "\n",
    "import src.d03_visiualisation.pie_chart\n",
    "importlib.reload(src.d03_visiualisation.pie_chart)"
   ]
  },
  {
   "cell_type": "markdown",
   "source": [
    "### Show conn as table"
   ],
   "metadata": {
    "collapsed": false
   },
   "id": "92f66ffac9f0629f"
  },
  {
   "cell_type": "code",
   "execution_count": null,
   "outputs": [],
   "source": [
    "from src.d01_data.read_files import load_latest_dataframe\n",
    "from src.d01_data.log_names_enum import LogNamesEnum\n",
    "from src.config import *\n",
    "\n",
    "# start: 20.01.2025 15:59\n",
    "# ende: 03.02.2025 19:01:33\n",
    "conn: pd.DataFrame = load_latest_dataframe(LogNamesEnum.conn)\n",
    "\n",
    "conn_udp: pd.DataFrame = conn[conn['proto'] == 'udp']\n",
    "conn_udp"
   ],
   "metadata": {
    "collapsed": false
   },
   "id": "729a8dc98b89462a"
  },
  {
   "cell_type": "markdown",
   "source": [
    "### Print basic information about conn file (filtered of VM's System traffic)"
   ],
   "metadata": {
    "collapsed": false
   },
   "id": "97d5d2bc78b106e4"
  },
  {
   "cell_type": "code",
   "execution_count": null,
   "outputs": [],
   "source": [
    "from src.d04_analysation.count_percent import *\n",
    "from src.d02_intermediate.filter_telescope_ips import *\n",
    "\n",
    "columns_for_inspecting_01: dict[str, int] = {\n",
    "    'id.orig_h': -1,\n",
    "    'id.orig_p': 10,\n",
    "    'geo.orig.city': 5,\n",
    "    'geo.orig.as_org': 5,\n",
    "    'id.resp_h': 100000,\n",
    "    'id.resp_p': -1,\n",
    "    'geo.resp.city': 5,\n",
    "    'geo.resp.as_org': 5,\n",
    "    'proto': 10,\n",
    "    'service': 5,\n",
    "    'orig_ip_abuse': -1,\n",
    "    'orig_address_abuse': -1,\n",
    "    'orig_country_abuse': -1,\n",
    "    'orig_email_abuse': -1,\n",
    "    'orig_name_abuse': -1,\n",
    "    'orig_network_abuse': -1,\n",
    "    'orig_phone_abuse': -1,\n",
    "    \n",
    "}\n",
    "\n",
    "def all_column_list(number: int) -> dict[str, int]:\n",
    "    columns_for_inspecting_02: dict[str, int] = {}\n",
    "    columns: pd.DataFrame = conn.columns\n",
    "    for column in columns:\n",
    "        columns_for_inspecting_02[column] = number\n",
    "    \n",
    "    print(columns_for_inspecting_02)\n",
    "    return columns_for_inspecting_02\n",
    "    \n",
    "def print_columns():\n",
    "    columns: pd.DataFrame = conn.columns\n",
    "    for column in columns:\n",
    "        print(column)\n",
    "    \n",
    "def calculate_and_print_column_stats(columns_for_inspecting: dict[str, int]) -> list[ColumnResults]:\n",
    "    conn_udp_normal_traffic: pd.DataFrame = filter_normal_traffic(LogNamesEnum.conn, conn)\n",
    "    column_results_list: list[ColumnResults] = column_calculation(conn_udp_normal_traffic, columns_for_inspecting, False)\n",
    "    for column_result in column_results_list:\n",
    "        display(column_result.result_as_df)\n",
    "    return column_results_list\n",
    "\n",
    "#print_columns()\n",
    "\n",
    "column_result_list: list[ColumnResults] = calculate_and_print_column_stats(all_column_list(2))\n",
    "\n",
    "\n",
    "\n",
    "# orig_ip_spacs: pd.DataFrame = column_result_list[0].result_as_df\n",
    "# orig_port_spacs: pd.DataFrame = column_result_list[1].result_as_df\n",
    "# resp_ip_spacs: pd.DataFrame = column_result_list[2].result_as_df\n",
    "# resp_port_spacs: pd.DataFrame = column_result_list[3].result_as_df\n",
    "# protocol_spacs: pd.DataFrame = column_result_list[4].result_as_df\n",
    "# service_spacs: pd.DataFrame = column_result_list[5].result_as_df\n",
    "# dest_city_spacs: pd.DataFrame = column_result_list[7].result_as_df"
   ],
   "metadata": {
    "collapsed": false
   },
   "id": "98517832639c36d7"
  },
  {
   "cell_type": "code",
   "execution_count": null,
   "outputs": [],
   "source": [
    "from src.d04_analysation.count_percent import *\n",
    "from src.d02_intermediate.filter_telescope_ips import *\n",
    "from src.d03_visiualisation.pie_chart import *\n",
    "\n",
    "conn_proto = column_calculation(conn, {'proto': -1}, False)[0].result_as_df\n",
    "conn_proto = conn_proto.loc[1:3]\n",
    "plot_pie_chart(conn_proto, 'percent', 'proto', 'conn_proto')"
   ],
   "metadata": {
    "collapsed": false
   },
   "id": "51a87697c8c43b4c"
  },
  {
   "cell_type": "code",
   "execution_count": null,
   "outputs": [],
   "source": [
    "from src.d04_analysation.count_percent import *\n",
    "from src.d02_intermediate.filter_telescope_ips import *\n",
    "from src.d03_visiualisation.pie_chart import *\n",
    "\n",
    "conn_udp_service_raw = column_calculation(conn_udp, {'service': -1}, False)[0].result_as_df\n",
    "conn_udp_service = conn_udp_service_raw.loc[1:]\n",
    "plot_pie_chart(conn_udp_service, 'percent', 'service', 'conn_udp_service')\n",
    "conn_udp_service"
   ],
   "metadata": {
    "collapsed": false
   },
   "id": "29f066bf15e75630"
  }
 ],
 "metadata": {
  "kernelspec": {
   "display_name": "Python 3",
   "language": "python",
   "name": "python3"
  },
  "language_info": {
   "codemirror_mode": {
    "name": "ipython",
    "version": 2
   },
   "file_extension": ".py",
   "mimetype": "text/x-python",
   "name": "python",
   "nbconvert_exporter": "python",
   "pygments_lexer": "ipython2",
   "version": "2.7.6"
  }
 },
 "nbformat": 4,
 "nbformat_minor": 5
}
