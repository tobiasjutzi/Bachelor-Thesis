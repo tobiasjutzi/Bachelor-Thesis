{
 "cells": [
  {
   "cell_type": "code",
   "execution_count": 1,
   "outputs": [
    {
     "name": "stdout",
     "output_type": "stream",
     "text": [
      "Test\n"
     ]
    },
    {
     "data": {
      "text/plain": "<module 'src.config' from '/Users/tobias/Library/CloudStorage/OneDrive-Persönlich/Studium/Code/BachelorThesis/CloudTeleskop/src/config.py'>"
     },
     "execution_count": 1,
     "metadata": {},
     "output_type": "execute_result"
    }
   ],
   "source": [
    "import importlib\n",
    "import pandas as pd\n",
    "\n",
    "import src.d01_data.read_files\n",
    "importlib.reload(src.d01_data.read_files)\n",
    "import src.d01_data.save_files\n",
    "importlib.reload(src.d01_data.save_files)\n",
    "\n",
    "import src.d02_intermediate.conn.addCountryName\n",
    "importlib.reload(src.d02_intermediate.conn.addCountryName)\n",
    "\n",
    "\n",
    "\n",
    "import src.config\n",
    "importlib.reload(src.config)"
   ],
   "metadata": {
    "collapsed": false,
    "ExecuteTime": {
     "end_time": "2024-11-20T12:13:13.976007Z",
     "start_time": "2024-11-20T12:13:13.665332Z"
    }
   },
   "id": "3081de88d647eda"
  },
  {
   "cell_type": "markdown",
   "source": [
    "### Import .log Files as Dataframes and save them as feather files"
   ],
   "metadata": {
    "collapsed": false
   },
   "id": "4a0436c5c33aed95"
  },
  {
   "cell_type": "code",
   "execution_count": 2,
   "id": "initial_id",
   "metadata": {
    "collapsed": true,
    "ExecuteTime": {
     "end_time": "2024-11-20T12:13:13.978578Z",
     "start_time": "2024-11-20T12:13:13.977056Z"
    }
   },
   "outputs": [],
   "source": [
    "from src.d01_data.read_files import *\n",
    "from src.d01_data.log_names_enum import LogNamesEnum\n",
    "from src.d01_data.save_files import *\n",
    "from src.d02_intermediate.conn.addCountryName import *\n",
    "\n",
    "\n",
    "path_to_log: str = 'raw_test'\n",
    "\n",
    "def import_and_save():\n",
    "    for log_name in LogNamesEnum:\n",
    "        dataframe: pd.DataFrame = read_log_file(log_name, path_to_log)\n",
    "        save_dataframe_as_feather(dataframe, log_name, 'init')\n",
    "\n",
    "#import_and_save()"
   ]
  },
  {
   "cell_type": "markdown",
   "source": [
    "### Add country Name column to conn.log"
   ],
   "metadata": {
    "collapsed": false
   },
   "id": "7e8a0468d336a8a8"
  },
  {
   "cell_type": "code",
   "execution_count": 3,
   "outputs": [
    {
     "name": "stdout",
     "output_type": "stream",
     "text": [
      "test\n",
      "5591\n"
     ]
    },
    {
     "data": {
      "text/plain": "<IPython.lib.display.IFrame at 0x107588670>",
      "text/html": "\n        <iframe\n            width=\"100%\"\n            height=\"500\"\n            src=\"pivottablejs.html\"\n            frameborder=\"0\"\n            allowfullscreen\n            \n        ></iframe>\n        "
     },
     "execution_count": 3,
     "metadata": {},
     "output_type": "execute_result"
    }
   ],
   "source": [
    "from src.d03_visiualisation.test_visiuslisation import test\n",
    "#from src.d01_data.read_files import read_log_file\n",
    "#from src.d01_data.log_names_enum import LogNamesEnum\n",
    "path_to_log2: str = 'raw_test'\n",
    "#from pandasgui import show\n",
    "#import pandas as pd\n",
    "#import qgrid\n",
    "from pivottablejs import pivot_ui\n",
    "\n",
    "print('test')\n",
    "df: pd.DataFrame = read_log_file(LogNamesEnum.dns, path_to_log2)\n",
    "print(df.shape[0])\n",
    "pivot_ui(df)\n"
   ],
   "metadata": {
    "collapsed": false,
    "ExecuteTime": {
     "end_time": "2024-11-20T12:13:14.118201Z",
     "start_time": "2024-11-20T12:13:13.980476Z"
    }
   },
   "id": "536b425653ac345b"
  },
  {
   "cell_type": "code",
   "execution_count": 3,
   "outputs": [],
   "source": [],
   "metadata": {
    "collapsed": false,
    "ExecuteTime": {
     "end_time": "2024-11-20T12:13:14.245784Z",
     "start_time": "2024-11-20T12:13:14.119239Z"
    }
   },
   "id": "270dfba537939c15"
  }
 ],
 "metadata": {
  "kernelspec": {
   "display_name": "Python 3",
   "language": "python",
   "name": "python3"
  },
  "language_info": {
   "codemirror_mode": {
    "name": "ipython",
    "version": 2
   },
   "file_extension": ".py",
   "mimetype": "text/x-python",
   "name": "python",
   "nbconvert_exporter": "python",
   "pygments_lexer": "ipython2",
   "version": "2.7.6"
  }
 },
 "nbformat": 4,
 "nbformat_minor": 5
}
