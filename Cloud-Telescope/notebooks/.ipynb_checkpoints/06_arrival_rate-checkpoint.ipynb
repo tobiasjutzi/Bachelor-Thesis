{
 "cells": [
  {
   "cell_type": "code",
   "execution_count": 1,
   "id": "initial_id",
   "metadata": {
    "collapsed": true,
    "ExecuteTime": {
     "end_time": "2024-12-03T16:03:48.565454Z",
     "start_time": "2024-12-03T16:03:48.273198Z"
    }
   },
   "outputs": [
    {
     "name": "stdout",
     "output_type": "stream",
     "text": [
      "Test\n"
     ]
    },
    {
     "data": {
      "text/plain": "<module 'src.config' from '/Users/tobias/Library/CloudStorage/OneDrive-Persönlich/Studium/Code/BachelorThesis/CloudTeleskop/src/config.py'>"
     },
     "execution_count": 1,
     "metadata": {},
     "output_type": "execute_result"
    }
   ],
   "source": [
    "import importlib\n",
    "import pandas as pd\n",
    "\n",
    "import src.d01_data.read_files\n",
    "importlib.reload(src.d01_data.read_files)\n",
    "import src.d01_data.save_files\n",
    "importlib.reload(src.d01_data.save_files)\n",
    "import src.d01_data.log_names_enum\n",
    "importlib.reload(src.d01_data.log_names_enum)\n",
    "\n",
    "import src.d03_visiualisation.tabel_visiualisation\n",
    "importlib.reload(src.d03_visiualisation.tabel_visiualisation)\n",
    "\n",
    "import src.d04_analysation.count_percent\n",
    "importlib.reload(src.d04_analysation.count_percent)\n",
    "import src.d04_analysation.arrival_rate\n",
    "importlib.reload(src.d04_analysation.arrival_rate)\n",
    "\n",
    "import src.d02_intermediate.filter_telescope_ips\n",
    "importlib.reload(src.d02_intermediate.filter_telescope_ips)\n",
    "\n",
    "import src.config\n",
    "importlib.reload(src.config)"
   ]
  },
  {
   "cell_type": "markdown",
   "source": [
    "### show mean arrival rate per minute"
   ],
   "metadata": {
    "collapsed": false
   },
   "id": "d9e5894796734d29"
  },
  {
   "cell_type": "code",
   "execution_count": 2,
   "outputs": [
    {
     "name": "stdout",
     "output_type": "stream",
     "text": [
      "Progress: 2024-03-20 14:00:00+00:00\n",
      "Progress: 2024-03-20 15:00:00+00:00\n",
      "Progress: 2024-03-20 16:00:00+00:00\n",
      "Progress: 2024-03-20 16:00:00+00:00\n",
      "Progress: 2024-03-20 16:00:00+00:00\n",
      "Progress: 2024-03-20 16:00:00+00:00\n",
      "Progress: 2024-03-20 16:00:00+00:00\n",
      "Progress: 2024-03-20 16:00:00+00:00\n",
      "Progress: 2024-03-20 16:00:00+00:00\n",
      "Progress: 2024-03-20 16:00:00+00:00\n",
      "Progress: 2024-03-20 16:00:00+00:00\n",
      "Progress: 2024-03-20 17:00:00+00:00\n",
      "Progress: 2024-03-20 18:00:00+00:00\n",
      "Progress: 2024-03-20 19:00:00+00:00\n",
      "Progress: 2024-03-20 20:00:00+00:00\n",
      "Progress: 2024-03-20 21:00:00+00:00\n",
      "Progress: 2024-03-20 22:00:00+00:00\n",
      "Progress: 2024-03-20 23:00:00+00:00\n",
      "Progress: 2024-03-20 23:00:00+00:00\n",
      "Progress: 2024-03-21 00:00:00+00:00\n",
      "Progress: 2024-03-21 01:00:00+00:00\n",
      "Progress: 2024-03-21 01:00:00+00:00\n",
      "Progress: 2024-03-21 02:00:00+00:00\n",
      "Progress: 2024-03-21 02:00:00+00:00\n",
      "Progress: 2024-03-21 02:00:00+00:00\n",
      "Progress: 2024-03-21 02:00:00+00:00\n",
      "Progress: 2024-03-21 02:00:00+00:00\n",
      "Progress: 2024-03-21 02:00:00+00:00\n",
      "Progress: 2024-03-21 02:00:00+00:00\n",
      "Progress: 2024-03-21 02:00:00+00:00\n",
      "Progress: 2024-03-21 02:00:00+00:00\n",
      "Progress: 2024-03-21 02:00:00+00:00\n",
      "Progress: 2024-03-21 02:00:00+00:00\n",
      "Progress: 2024-03-21 02:00:00+00:00\n",
      "Progress: 2024-03-21 03:00:00+00:00\n",
      "Progress: 2024-03-21 04:00:00+00:00\n",
      "Progress: 2024-03-21 05:00:00+00:00\n",
      "Progress: 2024-03-21 06:00:00+00:00\n",
      "Progress: 2024-03-21 07:00:00+00:00\n",
      "Progress: 2024-03-21 08:00:00+00:00\n",
      "Progress: 2024-03-21 09:00:00+00:00\n",
      "Progress: 2024-03-21 10:00:00+00:00\n",
      "Progress: 2024-03-21 11:00:00+00:00\n",
      "Progress: 2024-03-21 12:00:00+00:00\n",
      "Progress: 2024-03-21 13:00:00+00:00\n",
      "Progress: 2024-03-21 14:00:00+00:00\n",
      "Progress: 2024-03-21 15:00:00+00:00\n",
      "Progress: 2024-03-21 16:00:00+00:00\n",
      "Progress: 2024-03-21 17:00:00+00:00\n",
      "Progress: 2024-03-21 18:00:00+00:00\n",
      "Progress: 2024-03-21 19:00:00+00:00\n",
      "Progress: 2024-03-21 20:00:00+00:00\n",
      "Progress: 2024-03-21 20:00:00+00:00\n",
      "Progress: 2024-03-21 21:00:00+00:00\n",
      "Progress: 2024-03-21 22:00:00+00:00\n",
      "Progress: 2024-03-21 23:00:00+00:00\n",
      "Progress: 2024-03-22 00:00:00+00:00\n",
      "Progress: 2024-03-22 01:00:00+00:00\n",
      "Progress: 2024-03-22 02:00:00+00:00\n",
      "Progress: 2024-03-22 03:00:00+00:00\n",
      "Progress: 2024-03-22 04:00:00+00:00\n",
      "Progress: 2024-03-22 05:00:00+00:00\n",
      "Progress: 2024-03-22 06:00:00+00:00\n",
      "Progress: 2024-03-22 07:00:00+00:00\n",
      "Progress: 2024-03-22 08:00:00+00:00\n",
      "Progress: 2024-03-22 09:00:00+00:00\n",
      "Progress: 2024-03-22 10:00:00+00:00\n",
      "Progress: 2024-03-22 11:00:00+00:00\n",
      "Progress: 2024-03-22 12:00:00+00:00\n",
      "Progress: 2024-03-22 13:00:00+00:00\n",
      "Progress: 2024-03-22 14:00:00+00:00\n",
      "Progress: 2024-03-22 15:00:00+00:00\n",
      "Progress: 2024-03-22 16:00:00+00:00\n",
      "Progress: 2024-03-22 17:00:00+00:00\n",
      "Progress: 2024-03-22 18:00:00+00:00\n",
      "Progress: 2024-03-22 19:00:00+00:00\n",
      "Progress: 2024-03-22 20:00:00+00:00\n",
      "Progress: 2024-03-22 21:00:00+00:00\n",
      "Progress: 2024-03-22 22:00:00+00:00\n",
      "Progress: 2024-03-22 23:00:00+00:00\n",
      "Progress: 2024-03-23 00:00:00+00:00\n",
      "Progress: 2024-03-23 01:00:00+00:00\n",
      "Progress: 2024-03-23 02:00:00+00:00\n",
      "Progress: 2024-03-23 03:00:00+00:00\n",
      "Progress: 2024-03-23 04:00:00+00:00\n",
      "Progress: 2024-03-23 05:00:00+00:00\n",
      "Progress: 2024-03-23 06:00:00+00:00\n",
      "Progress: 2024-03-23 07:00:00+00:00\n",
      "Progress: 2024-03-23 08:00:00+00:00\n",
      "Progress: 2024-03-23 09:00:00+00:00\n",
      "Progress: 2024-03-23 10:00:00+00:00\n",
      "Progress: 2024-03-23 11:00:00+00:00\n",
      "Progress: 2024-03-23 12:00:00+00:00\n",
      "Progress: 2024-03-23 13:00:00+00:00\n",
      "Progress: 2024-03-23 14:00:00+00:00\n",
      "Progress: 2024-03-23 15:00:00+00:00\n",
      "Progress: 2024-03-23 16:00:00+00:00\n",
      "Progress: 2024-03-23 17:00:00+00:00\n",
      "Progress: 2024-03-23 18:00:00+00:00\n",
      "Progress: 2024-03-23 19:00:00+00:00\n",
      "Progress: 2024-03-23 20:00:00+00:00\n",
      "Progress: 2024-03-23 21:00:00+00:00\n",
      "Progress: 2024-03-23 22:00:00+00:00\n",
      "Progress: 2024-03-23 23:00:00+00:00\n",
      "Progress: 2024-03-24 00:00:00+00:00\n",
      "Progress: 2024-03-24 01:00:00+00:00\n",
      "Progress: 2024-03-24 02:00:00+00:00\n",
      "Progress: 2024-03-24 03:00:00+00:00\n",
      "Progress: 2024-03-24 04:00:00+00:00\n",
      "Progress: 2024-03-24 05:00:00+00:00\n",
      "Progress: 2024-03-24 06:00:00+00:00\n",
      "Progress: 2024-03-24 07:00:00+00:00\n",
      "Progress: 2024-03-24 08:00:00+00:00\n",
      "Progress: 2024-03-24 08:00:00+00:00\n",
      "Progress: 2024-03-24 08:00:00+00:00\n",
      "Progress: 2024-03-24 09:00:00+00:00\n",
      "Progress: 2024-03-24 10:00:00+00:00\n",
      "Progress: 2024-03-24 11:00:00+00:00\n",
      "Progress: 2024-03-24 12:00:00+00:00\n",
      "Progress: 2024-03-24 13:00:00+00:00\n",
      "Progress: 2024-03-24 14:00:00+00:00\n",
      "Progress: 2024-03-24 15:00:00+00:00\n",
      "From 2024-03-20 13:10:00+00:00 (Berlin) to 2024-03-24 15:10:00+00:00 (Berlin) the telescope captured: 0.6526101003230743 connections per minute\n"
     ]
    },
    {
     "data": {
      "text/plain": "                     timestamp  total_count\n0    2024-03-20 13:10:00+00:00            0\n1    2024-03-20 13:11:00+00:00            0\n2    2024-03-20 13:12:00+00:00            0\n3    2024-03-20 13:13:00+00:00            0\n4    2024-03-20 13:14:00+00:00            0\n...                        ...          ...\n5876 2024-03-24 15:06:00+00:00            0\n5877 2024-03-24 15:07:00+00:00            0\n5878 2024-03-24 15:08:00+00:00            1\n5879 2024-03-24 15:09:00+00:00            0\n5880 2024-03-24 15:10:00+00:00            0\n\n[5881 rows x 2 columns]",
      "text/html": "<div>\n<style scoped>\n    .dataframe tbody tr th:only-of-type {\n        vertical-align: middle;\n    }\n\n    .dataframe tbody tr th {\n        vertical-align: top;\n    }\n\n    .dataframe thead th {\n        text-align: right;\n    }\n</style>\n<table border=\"1\" class=\"dataframe\">\n  <thead>\n    <tr style=\"text-align: right;\">\n      <th></th>\n      <th>timestamp</th>\n      <th>total_count</th>\n    </tr>\n  </thead>\n  <tbody>\n    <tr>\n      <th>0</th>\n      <td>2024-03-20 13:10:00+00:00</td>\n      <td>0</td>\n    </tr>\n    <tr>\n      <th>1</th>\n      <td>2024-03-20 13:11:00+00:00</td>\n      <td>0</td>\n    </tr>\n    <tr>\n      <th>2</th>\n      <td>2024-03-20 13:12:00+00:00</td>\n      <td>0</td>\n    </tr>\n    <tr>\n      <th>3</th>\n      <td>2024-03-20 13:13:00+00:00</td>\n      <td>0</td>\n    </tr>\n    <tr>\n      <th>4</th>\n      <td>2024-03-20 13:14:00+00:00</td>\n      <td>0</td>\n    </tr>\n    <tr>\n      <th>...</th>\n      <td>...</td>\n      <td>...</td>\n    </tr>\n    <tr>\n      <th>5876</th>\n      <td>2024-03-24 15:06:00+00:00</td>\n      <td>0</td>\n    </tr>\n    <tr>\n      <th>5877</th>\n      <td>2024-03-24 15:07:00+00:00</td>\n      <td>0</td>\n    </tr>\n    <tr>\n      <th>5878</th>\n      <td>2024-03-24 15:08:00+00:00</td>\n      <td>1</td>\n    </tr>\n    <tr>\n      <th>5879</th>\n      <td>2024-03-24 15:09:00+00:00</td>\n      <td>0</td>\n    </tr>\n    <tr>\n      <th>5880</th>\n      <td>2024-03-24 15:10:00+00:00</td>\n      <td>0</td>\n    </tr>\n  </tbody>\n</table>\n<p>5881 rows × 2 columns</p>\n</div>"
     },
     "execution_count": 2,
     "metadata": {},
     "output_type": "execute_result"
    }
   ],
   "source": [
    "from src.d01_data.read_files import load_latest_dataframe\n",
    "from src.d01_data.log_names_enum import LogNamesEnum\n",
    "from src.d02_intermediate.filter_telescope_ips import filter_normal_traffic\n",
    "from src.d04_analysation.arrival_rate import *\n",
    "from src.d04_analysation.date_time_enum import DateTimeEnum\n",
    "from src.config import *\n",
    "from datetime import datetime\n",
    "\n",
    "# traffic at specific timestamp:\n",
    "# conn[conn['Date (Berlin)'].astype(str).str.startswith('2024-03-20 14:39')]\n",
    "\n",
    "def show_arrival_rate(df_name: LogNamesEnum, start_point: datetime, end_point: datetime, time_dimension: DateTimeEnum):\n",
    "    conn: pd.DataFrame = load_latest_dataframe(df_name)\n",
    "    conn = filter_normal_traffic(df_name, conn)\n",
    "    conn = conn.sort_values(by='ts', ascending=True, inplace=False)\n",
    "\n",
    "    arrival_rate: ArrivalRateReturn = get_arrival_rate(conn, start_point, end_point, time_dimension)\n",
    "    print(f'From {start_point} (Berlin) to {end_point} (Berlin) the telescope captured: {arrival_rate.mean_arrival_rate} connections per {time_dimension.value}')\n",
    "    return arrival_rate.arrival_rate_df    \n",
    "\n",
    "start: datetime = start_point\n",
    "end: datetime = end_point\n",
    "\n",
    "#arrival_rate_dataframe: pd.DataFrame = show_arrival_rate(LogNamesEnum.conn, start, end, DateTimeEnum.minute)\n",
    "specific_start = datetime(2024, 3, 20, 13, 10, tzinfo=timezone.utc)\n",
    "specific_end = datetime(2024, 3, 24, 15, 10, tzinfo=timezone.utc)\n",
    "arrival_rate_dataframe: pd.DataFrame = show_arrival_rate(LogNamesEnum.conn, specific_start, specific_end, DateTimeEnum.minute)\n",
    "arrival_rate_dataframe\n"
   ],
   "metadata": {
    "collapsed": false,
    "ExecuteTime": {
     "end_time": "2024-12-03T16:03:51.011606Z",
     "start_time": "2024-12-03T16:03:48.567109Z"
    }
   },
   "id": "d1b066bc386bc515"
  },
  {
   "cell_type": "code",
   "execution_count": 3,
   "outputs": [],
   "source": [
    "#show_arrival_rate(LogNamesEnum.conn, start_point_berlin, end_point_berlin,DateTimeEnum.second)"
   ],
   "metadata": {
    "collapsed": false,
    "ExecuteTime": {
     "end_time": "2024-12-03T16:03:51.012201Z",
     "start_time": "2024-12-03T16:03:51.010362Z"
    }
   },
   "id": "df925973bae91431"
  },
  {
   "cell_type": "code",
   "execution_count": 5,
   "outputs": [
    {
     "data": {
      "text/plain": "<Figure size 1000x600 with 1 Axes>",
      "image/png": "[encoded data removed]"
     },
     "metadata": {},
     "output_type": "display_data"
    },
    {
     "data": {
      "text/plain": "<Figure size 640x480 with 1 Axes>",
      "image/png": "[encoded data removed]"
     },
     "metadata": {},
     "output_type": "display_data"
    }
   ],
   "source": [
    "import pandas as pd\n",
    "import matplotlib.pyplot as plt\n",
    "\n",
    "# Beispiel-Datenframe erstellen\n",
    "\n",
    "df = arrival_rate_dataframe\n",
    "# # Daten in Gruppen von 10 zusammenfassen\n",
    "# df['Gruppe'] = df.index // 100  # Jede 10 Einträge in eine Gruppe packen\n",
    "# aggregated = df.groupby('Gruppe').agg({\n",
    "#     'timestamp': lambda x: f\"{x.min().strftime('%Y-%m-%d %H:%M')} - {x.max().strftime('%Y-%m-%d %H:%M')}\",\n",
    "#     'total_count': 'mean'\n",
    "# }).reset_index()\n",
    "# \n",
    "# # Plot erstellen\n",
    "# plt.figure(figsize=(10, 6))\n",
    "# plt.plot(aggregated['total_count'], marker='o', linestyle='-', color='b')\n",
    "# \n",
    "# # X-Achse formatieren\n",
    "# plt.xlabel('Zeitintervalle (zusammengefasst)', fontsize=12)\n",
    "# plt.xticks(range(len(aggregated['timestamp'])), labels=aggregated['timestamp'], rotation=45, fontsize=9)\n",
    "# \n",
    "# # Y-Achse formatieren\n",
    "# plt.ylabel('Durchschnittlicher Wert', fontsize=12)\n",
    "# plt.yticks(fontsize=10)\n",
    "# \n",
    "# # Titel und Stil anpassen\n",
    "# plt.title('Grafik der aggregierten Werte (10er-Gruppen)', fontsize=14)\n",
    "# plt.grid(True, linestyle='--', alpha=0.7)\n",
    "# plt.tight_layout()\n",
    "# \n",
    "# # Plot anzeigen\n",
    "# plt.show()\n",
    "\n",
    "\n",
    "# # Plot erstellen\n",
    "# plt.figure(figsize=(10, 6))\n",
    "# plt.plot(df['total_count'], marker='o', linestyle='-', color='b')\n",
    "# \n",
    "# # X-Achse formatieren\n",
    "# plt.xlabel('Index der Zeitpunkte', fontsize=12)\n",
    "# plt.xticks(range(len(df['timestamp'])), labels=[str(i) for i in range(len(df['timestamp']))])\n",
    "# \n",
    "# # Y-Achse formatieren\n",
    "# plt.ylabel('Wert', fontsize=12)\n",
    "# plt.yticks(fontsize=10)\n",
    "# \n",
    "# # Titel und Stil anpassen\n",
    "# plt.title('Grafik der Werte über Zeitpunkte (Index-basiert)', fontsize=14)\n",
    "# plt.grid(True, linestyle='--', alpha=0.7)\n",
    "# plt.tight_layout()\n",
    "# \n",
    "# # Plot anzeigen\n",
    "# plt.show()\n",
    "\n",
    "# Plot erstellen\n",
    "plt.figure(figsize=(10, 6))\n",
    "plt.plot(df['total_count'], linestyle='-', color='b', linewidth=0.5)  # Dicke halbiert, keine Marker\n",
    "\n",
    "# Hintergrund explizit auf Weiß setzen\n",
    "plt.gca().set_facecolor('white')  # Hintergrund des Plots\n",
    "plt.figure().set_facecolor('white')  # Hintergrund des Canvas\n",
    "\n",
    "# X-Achse formatieren\n",
    "plt.xlabel('Index der Zeitpunkte', fontsize=12)\n",
    "plt.xticks(range(len(df['timestamp'])), labels=[str(i) for i in range(len(df['timestamp']))])\n",
    "\n",
    "# Y-Achse formatieren\n",
    "plt.ylabel('Wert', fontsize=12)\n",
    "plt.yticks(fontsize=10)\n",
    "\n",
    "\n",
    "# Titel und Stil anpassen\n",
    "plt.title('Grafik der Werte über Zeitpunkte (Index-basiert)', fontsize=14)\n",
    "plt.grid(True, linestyle='--', alpha=0.7)\n",
    "plt.tight_layout()\n",
    "\n",
    "# Plot anzeigen\n",
    "plt.show()\n"
   ],
   "metadata": {
    "collapsed": false,
    "ExecuteTime": {
     "end_time": "2024-12-03T16:04:24.540810Z",
     "start_time": "2024-12-03T16:04:12.846092Z"
    }
   },
   "id": "16f04f2f0085e7d0"
  },
  {
   "cell_type": "code",
   "execution_count": 4,
   "outputs": [],
   "source": [],
   "metadata": {
    "collapsed": false,
    "ExecuteTime": {
     "end_time": "2024-12-03T16:04:02.792732Z",
     "start_time": "2024-12-03T16:04:02.790526Z"
    }
   },
   "id": "be6a2bb800f1b1b7"
  }
 ],
 "metadata": {
  "kernelspec": {
   "display_name": "Python 3",
   "language": "python",
   "name": "python3"
  },
  "language_info": {
   "codemirror_mode": {
    "name": "ipython",
    "version": 2
   },
   "file_extension": ".py",
   "mimetype": "text/x-python",
   "name": "python",
   "nbconvert_exporter": "python",
   "pygments_lexer": "ipython2",
   "version": "2.7.6"
  }
 },
 "nbformat": 4,
 "nbformat_minor": 5
}
