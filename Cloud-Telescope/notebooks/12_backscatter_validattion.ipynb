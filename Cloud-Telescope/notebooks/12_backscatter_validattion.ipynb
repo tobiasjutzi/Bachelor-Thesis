{
 "cells": [
  {
   "cell_type": "code",
   "execution_count": null,
   "outputs": [],
   "source": [
    "from pathlib import Path\n",
    "import os\n",
    "import importlib\n",
    "\n",
    "import pandas as pd\n",
    "\n",
    "if not str(Path.cwd()).endswith('/Cloud-Telescope'):\n",
    "    os.chdir(Path.cwd().parent)\n",
    "    print(f'New working dir is {Path.cwd()}')    \n",
    "\n",
    "import src.config\n",
    "importlib.reload(src.config)\n",
    "\n",
    "import src.d01_data.read_files\n",
    "importlib.reload(src.d01_data.read_files)\n",
    "\n",
    "import src.d01_data.log_names_enum\n",
    "importlib.reload(src.d01_data.log_names_enum)\n",
    "\n",
    "from src.config import *\n",
    "from src.d01_data.read_files import *\n",
    "\n",
    "\n",
    "print(path_root)\n",
    "print(path_server_data)"
   ],
   "metadata": {
    "collapsed": false
   },
   "id": "ba5ee0e72ba92e8b"
  },
  {
   "cell_type": "code",
   "execution_count": null,
   "outputs": [],
   "source": [
    "import pandas as pd\n",
    "from scapy.all import IP, UDP, DNS, DNSQR, DNSRR, wrpcap\n",
    "from src.d01_data.read_files import read_log_file\n",
    "from src.d01_data.log_names_enum import LogNamesEnum\n",
    "\n",
    "def pcap():\n",
    "        # Daten für die DNS-Anfrage\n",
    "        client_ip = \"104.248.118.173\"\n",
    "        server_ip = \"188.226.134.9\"\n",
    "        query_name = \"example.fake\" \n",
    "        resolved_ip = \"93.184.216.34\"\n",
    "\n",
    "        # DNS-Anfrage erstellen\n",
    "        dns_request = (\n",
    "                IP(src=client_ip, dst=server_ip) /\n",
    "                UDP(sport=12345, dport=53) /\n",
    "                DNS(rd=1, qd=DNSQR(qname=query_name))\n",
    "        )\n",
    "\n",
    "        # DNS-Antwort erstellen\n",
    "        dns_response = (\n",
    "                IP(src=server_ip, dst=client_ip) /\n",
    "                UDP(sport=53, dport=12345) /\n",
    "                DNS(\n",
    "                        id=dns_request[DNS].id,\n",
    "                        qr=1,  # Antwort\n",
    "                        aa=1,  # Authoritative Answer\n",
    "                        qd=dns_request[DNS].qd,\n",
    "                        an=DNSRR(rrname=query_name, ttl=300, rdata=resolved_ip)\n",
    "                )\n",
    "        )\n",
    "\n",
    "        # Pakete in .pcap-Dateien speichern\n",
    "        wrpcap(\"request.pcap\", dns_request)\n",
    "        wrpcap(\"response.pcap\", dns_response)\n",
    "\n",
    "        print(\"Die .pcap-Dateien wurden erstellt: 'request.pcap' und 'response.pcap'\")"
   ],
   "metadata": {
    "collapsed": false
   },
   "id": "aeef585446969df6"
  },
  {
   "cell_type": "code",
   "execution_count": null,
   "outputs": [],
   "source": [
    "# client = 104.248.118.173\n",
    "# server = 188.226.134.9\n",
    "request_v1 = read_log_file(LogNamesEnum.conn, 'backscatterTest/request_v1')\n",
    "request_dns_v1 = read_log_file(LogNamesEnum.dns, 'backscatterTest/request_v1')\n",
    "response_v1 = read_log_file(LogNamesEnum.conn, 'backscatterTest/response_v1')\n",
    "response_dns_v1 = read_log_file(LogNamesEnum.dns, 'backscatterTest/response_v1')\n",
    "\n",
    "request_v2 = read_log_file(LogNamesEnum.conn, 'backscatterTest/request_v2')\n",
    "request_dns_v2 = read_log_file(LogNamesEnum.dns, 'backscatterTest/request_v2')\n",
    "response_v2 = read_log_file(LogNamesEnum.conn, 'backscatterTest/response_v2')\n",
    "response_dns_v2 = read_log_file(LogNamesEnum.dns, 'backscatterTest/response_v2')\n",
    "\n",
    "request_v3 = read_log_file(LogNamesEnum.conn, 'backscatterTest/request_v3')\n",
    "request_dns_v3 = read_log_file(LogNamesEnum.dns, 'backscatterTest/request_v3')\n",
    "response_v3 = read_log_file(LogNamesEnum.conn, 'backscatterTest/response_v3')\n",
    "response_dns_v3 = read_log_file(LogNamesEnum.dns, 'backscatterTest/response_v3')"
   ],
   "metadata": {
    "collapsed": false
   },
   "id": "bcf8a13301870fb7"
  }
 ],
 "metadata": {
  "kernelspec": {
   "display_name": "Python 3",
   "language": "python",
   "name": "python3"
  },
  "language_info": {
   "codemirror_mode": {
    "name": "ipython",
    "version": 2
   },
   "file_extension": ".py",
   "mimetype": "text/x-python",
   "name": "python",
   "nbconvert_exporter": "python",
   "pygments_lexer": "ipython2",
   "version": "2.7.6"
  }
 },
 "nbformat": 4,
 "nbformat_minor": 5
}
